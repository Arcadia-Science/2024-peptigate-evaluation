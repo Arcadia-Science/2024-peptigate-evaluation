{
 "cells": [
  {
   "cell_type": "markdown",
   "id": "39c0e89c-348e-490e-8ba8-3ad92a9cab85",
   "metadata": {},
   "source": [
    "# Determining whether predicted cleavage peptides (DeepPeptide) that don't match peptides in databases have other traits that support their veracity.\n",
    "\n",
    "Some cleavage peptides (~49%) predicted by the DeepPeptide tool had matches to peptides in the Peptipedia database.\n",
    "Peptipedia is a metadatabase comprised of peptide sequences from 76 databases.\n",
    "This notebook investigates whether peptides that didn't have matches contain other traits that support these peptides being real.\n",
    "\n",
    "**Signal peptides**: Most (but not all) annotated cleavage peptides are cleaved from precursor proteins that contain an N-terminal signal peptide [https://doi.org/10.1038/s41467-022-34031-z].\n",
    "Signal peptides target a protein to the secretory pathway and allow cleaved peptides to reach their final destination [https://doi.org/10.1096/fasebj.8.9.8005390].\n",
    "Many cleavage peptides function as hormones or other signaling molecules, making export from the cell a key step in their biogenesis [https://doi.org/10.1096/fasebj.8.9.8005390]. \n",
    "\n",
    "**Propeptides**: Some precursor proteins include propeptides, which are segments that may help in the correct folding of the protein, inhibit premature activity before reaching the target site, or aid in the proper localization of the enzyme [https://doi.org/10.1002/prot.26702].\n",
    "The propeptides are cleaved off to activate the protein or peptide once it's reached its destination.\n",
    "\n",
    "We could investigate other signals (disulfide bonds, glycosylation sites, sorting signals), but signal peptides and propeptides were the easiest with data/tools we already had access to, so we started with these two."
   ]
  },
  {
   "cell_type": "markdown",
   "id": "999b78a0-fef5-4b75-a53b-2c535924fbae",
   "metadata": {},
   "source": [
    "## Prep notebook"
   ]
  },
  {
   "cell_type": "code",
   "execution_count": 1,
   "id": "41fe72c4-a500-4674-9f14-ddd0567af5f2",
   "metadata": {},
   "outputs": [
    {
     "name": "stderr",
     "output_type": "stream",
     "text": [
      "── \u001b[1mAttaching core tidyverse packages\u001b[22m ───────────────────────────────────────────────────────────────────────────────────────────── tidyverse 2.0.0 ──\n",
      "\u001b[32m✔\u001b[39m \u001b[34mdplyr    \u001b[39m 1.1.4     \u001b[32m✔\u001b[39m \u001b[34mreadr    \u001b[39m 2.1.5\n",
      "\u001b[32m✔\u001b[39m \u001b[34mforcats  \u001b[39m 1.0.0     \u001b[32m✔\u001b[39m \u001b[34mstringr  \u001b[39m 1.5.1\n",
      "\u001b[32m✔\u001b[39m \u001b[34mggplot2  \u001b[39m 3.5.1     \u001b[32m✔\u001b[39m \u001b[34mtibble   \u001b[39m 3.2.1\n",
      "\u001b[32m✔\u001b[39m \u001b[34mlubridate\u001b[39m 1.9.3     \u001b[32m✔\u001b[39m \u001b[34mtidyr    \u001b[39m 1.3.1\n",
      "\u001b[32m✔\u001b[39m \u001b[34mpurrr    \u001b[39m 1.0.2     \n",
      "── \u001b[1mConflicts\u001b[22m ─────────────────────────────────────────────────────────────────────────────────────────────────────────────── tidyverse_conflicts() ──\n",
      "\u001b[31m✖\u001b[39m \u001b[34mdplyr\u001b[39m::\u001b[32mfilter()\u001b[39m masks \u001b[34mstats\u001b[39m::filter()\n",
      "\u001b[31m✖\u001b[39m \u001b[34mdplyr\u001b[39m::\u001b[32mlag()\u001b[39m    masks \u001b[34mstats\u001b[39m::lag()\n",
      "\u001b[36mℹ\u001b[39m Use the conflicted package (\u001b[3m\u001b[34m<http://conflicted.r-lib.org/>\u001b[39m\u001b[23m) to force all conflicts to become errors\n"
     ]
    }
   ],
   "source": [
    "library(tidyverse, warn.conflicts = F)"
   ]
  },
  {
   "cell_type": "markdown",
   "id": "5e5beb91-524b-470a-a3c1-221228f3898f",
   "metadata": {},
   "source": [
    "## Read in and process data\n",
    "\n",
    "Below, we read in two results files produced by running peptigate on the human transcriptome."
   ]
  },
  {
   "cell_type": "code",
   "execution_count": 2,
   "id": "a50719d4-dec9-49dd-8704-1ad0c25c874d",
   "metadata": {},
   "outputs": [],
   "source": [
    "human_predictions <- read_tsv(\"../../peptigate/results/predictions/peptide_predictions.tsv.gz\", show_col_types = F) %>%\n",
    "  mutate(peptide_class = ifelse(is.na(peptide_class), \"sORF\", peptide_class)) %>%\n",
    "  # Remove propeptide predictions, as propeptides don't have biological activity once cleaved.\n",
    "  filter(peptide_class != \"Propeptide\") %>%\n",
    "  # This notebook focuses on DeepPeptide cleavage peptides, so filter to these\n",
    "  filter(prediction_tool == \"deeppeptide\")\n",
    "\n",
    "human_annotations <- read_tsv(\"../../peptigate/results/predictions/peptide_annotations.tsv.gz\", show_col_types = F) %>%\n",
    "  mutate(length = nchar(sequence)) %>%\n",
    "  mutate(peptipedia_blast_result = ifelse(!is.na(peptipedia_blast_bitscore), \"blast hit\", \"no blast hit\")) \n",
    "\n",
    "human_results <- left_join(human_predictions, human_annotations, by = \"peptide_id\")"
   ]
  },
  {
   "cell_type": "markdown",
   "id": "d7d4cdae-adfd-4f46-8f1e-ec71f7b6145c",
   "metadata": {},
   "source": [
    "## Filter to distinct peptide sequences\n",
    "\n",
    "While there is no overlap in sequences predicted by different tools (code not shown), duplicate sequences arise from a tool (ex. DeepPeptide) predicting the same peptide sequence from different transcripts.\n",
    "These transcripts are usually isoforms of the same gene that contain the same sequence that gives rise to the peptide.\n",
    "\n",
    "Peptigate predicted 263 distinct cleavage peptide amino acid sequences."
   ]
  },
  {
   "cell_type": "code",
   "execution_count": 3,
   "id": "132d9dc3-f90c-432a-a43f-fbdc90c51632",
   "metadata": {},
   "outputs": [],
   "source": [
    "# This code block filters to distinct sequences while keeping the most metadata possible.\n",
    "# This requires removing metadata columns that might not be the same even if sequences are the same.\n",
    "# We remove columns that we expect to vary like \"peptide_id\", \"start\", and \"end\".\n",
    "human_results_distinct <- human_results %>%\n",
    "  select(peptide_type, prediction_tool, sequence, length, \n",
    "         peptipedia_blast_pident, peptipedia_blast_evalue, \n",
    "         peptipedia_blast_bitscore,  peptipedia_blast_result) %>%\n",
    "  distinct()"
   ]
  },
  {
   "cell_type": "code",
   "execution_count": 4,
   "id": "0faea211-6e4a-4bb4-addf-5b05ab2ed19c",
   "metadata": {},
   "outputs": [
    {
     "data": {
      "text/html": [
       "263"
      ],
      "text/latex": [
       "263"
      ],
      "text/markdown": [
       "263"
      ],
      "text/plain": [
       "[1] 263"
      ]
     },
     "metadata": {},
     "output_type": "display_data"
    },
    {
     "data": {
      "text/html": [
       "263"
      ],
      "text/latex": [
       "263"
      ],
      "text/markdown": [
       "263"
      ],
      "text/plain": [
       "[1] 263"
      ]
     },
     "metadata": {},
     "output_type": "display_data"
    }
   ],
   "source": [
    "# Confirm the number of rows in the dataframe match the number of distinct sequences\n",
    "length(unique(human_results_distinct$sequence))\n",
    "nrow(human_results_distinct)"
   ]
  },
  {
   "cell_type": "markdown",
   "id": "08e1b678-ebe0-42ab-9a90-de943c1bfe83",
   "metadata": {},
   "source": [
    "## How many deeppeptide-predicted peptides had a BLAST hit?"
   ]
  },
  {
   "cell_type": "code",
   "execution_count": 5,
   "id": "c08c91c5-3cb7-4cf6-a68f-2a3cb8b9d857",
   "metadata": {},
   "outputs": [
    {
     "data": {
      "text/html": [
       "<table class=\"dataframe\">\n",
       "<caption>A grouped_df: 2 × 3</caption>\n",
       "<thead>\n",
       "\t<tr><th scope=col>prediction_tool</th><th scope=col>peptipedia_blast_result</th><th scope=col>n</th></tr>\n",
       "\t<tr><th scope=col>&lt;chr&gt;</th><th scope=col>&lt;chr&gt;</th><th scope=col>&lt;int&gt;</th></tr>\n",
       "</thead>\n",
       "<tbody>\n",
       "\t<tr><td>deeppeptide</td><td>blast hit   </td><td>130</td></tr>\n",
       "\t<tr><td>deeppeptide</td><td>no blast hit</td><td>133</td></tr>\n",
       "</tbody>\n",
       "</table>\n"
      ],
      "text/latex": [
       "A grouped\\_df: 2 × 3\n",
       "\\begin{tabular}{lll}\n",
       " prediction\\_tool & peptipedia\\_blast\\_result & n\\\\\n",
       " <chr> & <chr> & <int>\\\\\n",
       "\\hline\n",
       "\t deeppeptide & blast hit    & 130\\\\\n",
       "\t deeppeptide & no blast hit & 133\\\\\n",
       "\\end{tabular}\n"
      ],
      "text/markdown": [
       "\n",
       "A grouped_df: 2 × 3\n",
       "\n",
       "| prediction_tool &lt;chr&gt; | peptipedia_blast_result &lt;chr&gt; | n &lt;int&gt; |\n",
       "|---|---|---|\n",
       "| deeppeptide | blast hit    | 130 |\n",
       "| deeppeptide | no blast hit | 133 |\n",
       "\n"
      ],
      "text/plain": [
       "  prediction_tool peptipedia_blast_result n  \n",
       "1 deeppeptide     blast hit               130\n",
       "2 deeppeptide     no blast hit            133"
      ]
     },
     "metadata": {},
     "output_type": "display_data"
    }
   ],
   "source": [
    "human_results_distinct %>%\n",
    "  group_by(prediction_tool, peptipedia_blast_result) %>%\n",
    "  tally() "
   ]
  },
  {
   "cell_type": "markdown",
   "id": "44303b31-0782-4ad8-a70c-c1d480c5a314",
   "metadata": {},
   "source": [
    "## Join to signal peptide information\n",
    "\n",
    "Below we join the signal peptide predictions for parent proteins to the peptigate peptide predictions.\n",
    "This will allow us to see which peptides that didn't have BLAST matches come from parent proteins with signal peptides.\n",
    "\n",
    "As documented in the README, we ran DeepSig on the precursor/parent proteins from which the peptides were cleaved.\n",
    "We started with the peptigate intermediate file that reports the sequences of the parent proteins and predicted signal peptides on these sequences.\n",
    "See the README in this directory for the code that we used."
   ]
  },
  {
   "cell_type": "code",
   "execution_count": 6,
   "id": "92b44979-2175-4f97-a69d-78d9e1010c6e",
   "metadata": {},
   "outputs": [],
   "source": [
    "deepsig_deeppeptide <- read_tsv(\"deeppeptide_peptide_parents_deepsig.tsv\", show_col_types = F) %>%\n",
    "  filter(deepsig_feature == \"Signal peptide\") %>%\n",
    "  select(parent_id = peptide_id, deepsig_parent = deepsig_feature) %>%\n",
    "  group_by(parent_id) %>%\n",
    "  slice_head(n = 1) %>%\n",
    "  mutate(prediction_tool = \"deeppeptide\")"
   ]
  },
  {
   "cell_type": "code",
   "execution_count": 7,
   "id": "fe83b686-4664-427a-81ac-0cdcb282bd9b",
   "metadata": {},
   "outputs": [],
   "source": [
    "human_results_deepsig <- human_results %>%\n",
    "  # Generate precursor protein sequence id from peptide id.\n",
    "  mutate(parent_id = gsub(\"_start.*\", \"\", peptide_id)) %>%\n",
    "  left_join(deepsig_deeppeptide, by = c(\"prediction_tool\", \"parent_id\")) %>%\n",
    "  mutate(deepsig_parent = ifelse(is.na(deepsig_parent), \"Chain\", deepsig_parent))"
   ]
  },
  {
   "cell_type": "code",
   "execution_count": 8,
   "id": "a49a03c8-5bc6-45f6-9182-7dc703c0846d",
   "metadata": {},
   "outputs": [],
   "source": [
    "# Re-derive distinct sequences so things aren't counted twice.\n",
    "human_results_deepsig_distinct <-  human_results_deepsig %>%\n",
    "  select(peptide_type, prediction_tool, sequence, length,\n",
    "         peptipedia_blast_bitscore,  peptipedia_blast_result,\n",
    "         deepsig_combined, deepsig_parent) %>%\n",
    "  mutate(deepsig_peptide = ifelse(grepl(pattern = \"Signal\", x = deepsig_combined), \"Signal peptide\", \"Chain\")) %>%\n",
    "  distinct()"
   ]
  },
  {
   "cell_type": "code",
   "execution_count": 9,
   "id": "1c305e01-03cd-4a48-9227-a8098a4a1f83",
   "metadata": {},
   "outputs": [
    {
     "data": {
      "text/html": [
       "286"
      ],
      "text/latex": [
       "286"
      ],
      "text/markdown": [
       "286"
      ],
      "text/plain": [
       "[1] 286"
      ]
     },
     "metadata": {},
     "output_type": "display_data"
    }
   ],
   "source": [
    "# Note that there are duplicated rows.\n",
    "# We deal with this in subsequent cells.\n",
    "nrow(human_results_deepsig_distinct)"
   ]
  },
  {
   "cell_type": "code",
   "execution_count": 10,
   "id": "1e4ab222-d290-4f12-9304-425d5d22ed61",
   "metadata": {},
   "outputs": [
    {
     "data": {
      "text/html": [
       "<table class=\"dataframe\">\n",
       "<caption>A grouped_df: 5 × 5</caption>\n",
       "<thead>\n",
       "\t<tr><th scope=col>prediction_tool</th><th scope=col>peptipedia_blast_result</th><th scope=col>deepsig_peptide</th><th scope=col>deepsig_parent</th><th scope=col>n</th></tr>\n",
       "\t<tr><th scope=col>&lt;chr&gt;</th><th scope=col>&lt;chr&gt;</th><th scope=col>&lt;chr&gt;</th><th scope=col>&lt;chr&gt;</th><th scope=col>&lt;int&gt;</th></tr>\n",
       "</thead>\n",
       "<tbody>\n",
       "\t<tr><td>deeppeptide</td><td>blast hit   </td><td>Chain         </td><td>Chain         </td><td> 83</td></tr>\n",
       "\t<tr><td>deeppeptide</td><td>blast hit   </td><td>Chain         </td><td>Signal peptide</td><td> 67</td></tr>\n",
       "\t<tr><td>deeppeptide</td><td>no blast hit</td><td>Chain         </td><td>Chain         </td><td>104</td></tr>\n",
       "\t<tr><td>deeppeptide</td><td>no blast hit</td><td>Chain         </td><td>Signal peptide</td><td> 28</td></tr>\n",
       "\t<tr><td>deeppeptide</td><td>no blast hit</td><td>Signal peptide</td><td>Chain         </td><td>  4</td></tr>\n",
       "</tbody>\n",
       "</table>\n"
      ],
      "text/latex": [
       "A grouped\\_df: 5 × 5\n",
       "\\begin{tabular}{lllll}\n",
       " prediction\\_tool & peptipedia\\_blast\\_result & deepsig\\_peptide & deepsig\\_parent & n\\\\\n",
       " <chr> & <chr> & <chr> & <chr> & <int>\\\\\n",
       "\\hline\n",
       "\t deeppeptide & blast hit    & Chain          & Chain          &  83\\\\\n",
       "\t deeppeptide & blast hit    & Chain          & Signal peptide &  67\\\\\n",
       "\t deeppeptide & no blast hit & Chain          & Chain          & 104\\\\\n",
       "\t deeppeptide & no blast hit & Chain          & Signal peptide &  28\\\\\n",
       "\t deeppeptide & no blast hit & Signal peptide & Chain          &   4\\\\\n",
       "\\end{tabular}\n"
      ],
      "text/markdown": [
       "\n",
       "A grouped_df: 5 × 5\n",
       "\n",
       "| prediction_tool &lt;chr&gt; | peptipedia_blast_result &lt;chr&gt; | deepsig_peptide &lt;chr&gt; | deepsig_parent &lt;chr&gt; | n &lt;int&gt; |\n",
       "|---|---|---|---|---|\n",
       "| deeppeptide | blast hit    | Chain          | Chain          |  83 |\n",
       "| deeppeptide | blast hit    | Chain          | Signal peptide |  67 |\n",
       "| deeppeptide | no blast hit | Chain          | Chain          | 104 |\n",
       "| deeppeptide | no blast hit | Chain          | Signal peptide |  28 |\n",
       "| deeppeptide | no blast hit | Signal peptide | Chain          |   4 |\n",
       "\n"
      ],
      "text/plain": [
       "  prediction_tool peptipedia_blast_result deepsig_peptide deepsig_parent n  \n",
       "1 deeppeptide     blast hit               Chain           Chain           83\n",
       "2 deeppeptide     blast hit               Chain           Signal peptide  67\n",
       "3 deeppeptide     no blast hit            Chain           Chain          104\n",
       "4 deeppeptide     no blast hit            Chain           Signal peptide  28\n",
       "5 deeppeptide     no blast hit            Signal peptide  Chain            4"
      ]
     },
     "metadata": {},
     "output_type": "display_data"
    }
   ],
   "source": [
    "# get an overview of results\n",
    "human_results_deepsig_distinct %>%\n",
    "  group_by(prediction_tool, peptipedia_blast_result, deepsig_peptide, deepsig_parent) %>%\n",
    "  tally()"
   ]
  },
  {
   "cell_type": "code",
   "execution_count": 11,
   "id": "2a989116-371b-4781-ac44-b340fa980f23",
   "metadata": {},
   "outputs": [
    {
     "data": {
      "text/html": [
       "28"
      ],
      "text/latex": [
       "28"
      ],
      "text/markdown": [
       "28"
      ],
      "text/plain": [
       "[1] 28"
      ]
     },
     "metadata": {},
     "output_type": "display_data"
    }
   ],
   "source": [
    "# pull out specifically the number of distinct cleavage peptides whose precursor protein had a signal peptide\n",
    "deeppeptide_no_blast_hit_but_signal_peptide <- human_results_deepsig_distinct %>%\n",
    "  filter(prediction_tool == \"deeppeptide\") %>%\n",
    "  filter(peptipedia_blast_result == \"no blast hit\") %>%\n",
    "  filter(deepsig_parent == \"Signal peptide\")\n",
    "\n",
    "length(unique(deeppeptide_no_blast_hit_but_signal_peptide$sequence))"
   ]
  },
  {
   "cell_type": "markdown",
   "id": "4e0d93aa-fcf4-4ed7-b2f7-8b1fcfd31d71",
   "metadata": {},
   "source": [
    "## Determine if cleavage peptides have propeptides predicted from parent sequences"
   ]
  },
  {
   "cell_type": "code",
   "execution_count": 12,
   "id": "34905818-8232-4474-87ab-9af5582f3975",
   "metadata": {},
   "outputs": [],
   "source": [
    "# In the version of peptigate run in this repo, propeptides are included in the peptide prediction output.\n",
    "# Below, we read in the peptigate results and only keep the propeptide predictions.\n",
    "propeptide_predictions <- read_tsv(\"../../peptigate/results/predictions/peptide_predictions.tsv.gz\", show_col_types = F) %>%\n",
    "  filter(peptide_class == \"Propeptide\") %>%\n",
    "  mutate(parent_id = gsub(\"_start.*\", \"\", peptide_id))"
   ]
  },
  {
   "cell_type": "code",
   "execution_count": 13,
   "id": "97d3ef56-1e13-417c-988d-b1045b856ac4",
   "metadata": {},
   "outputs": [
    {
     "data": {
      "text/html": [
       "<table class=\"dataframe\">\n",
       "<caption>A grouped_df: 8 × 5</caption>\n",
       "<thead>\n",
       "\t<tr><th scope=col>prediction_tool</th><th scope=col>peptipedia_blast_result</th><th scope=col>deepsig_parent</th><th scope=col>has_propeptide</th><th scope=col>n</th></tr>\n",
       "\t<tr><th scope=col>&lt;chr&gt;</th><th scope=col>&lt;chr&gt;</th><th scope=col>&lt;chr&gt;</th><th scope=col>&lt;chr&gt;</th><th scope=col>&lt;int&gt;</th></tr>\n",
       "</thead>\n",
       "<tbody>\n",
       "\t<tr><td>deeppeptide</td><td>blast hit   </td><td>Chain         </td><td>no propeptide</td><td> 60</td></tr>\n",
       "\t<tr><td>deeppeptide</td><td>blast hit   </td><td>Chain         </td><td>propeptide   </td><td> 24</td></tr>\n",
       "\t<tr><td>deeppeptide</td><td>blast hit   </td><td>Signal peptide</td><td>no propeptide</td><td> 42</td></tr>\n",
       "\t<tr><td>deeppeptide</td><td>blast hit   </td><td>Signal peptide</td><td>propeptide   </td><td> 27</td></tr>\n",
       "\t<tr><td>deeppeptide</td><td>no blast hit</td><td>Chain         </td><td>no propeptide</td><td>100</td></tr>\n",
       "\t<tr><td>deeppeptide</td><td>no blast hit</td><td>Chain         </td><td>propeptide   </td><td>  8</td></tr>\n",
       "\t<tr><td>deeppeptide</td><td>no blast hit</td><td>Signal peptide</td><td>no propeptide</td><td> 20</td></tr>\n",
       "\t<tr><td>deeppeptide</td><td>no blast hit</td><td>Signal peptide</td><td>propeptide   </td><td>  8</td></tr>\n",
       "</tbody>\n",
       "</table>\n"
      ],
      "text/latex": [
       "A grouped\\_df: 8 × 5\n",
       "\\begin{tabular}{lllll}\n",
       " prediction\\_tool & peptipedia\\_blast\\_result & deepsig\\_parent & has\\_propeptide & n\\\\\n",
       " <chr> & <chr> & <chr> & <chr> & <int>\\\\\n",
       "\\hline\n",
       "\t deeppeptide & blast hit    & Chain          & no propeptide &  60\\\\\n",
       "\t deeppeptide & blast hit    & Chain          & propeptide    &  24\\\\\n",
       "\t deeppeptide & blast hit    & Signal peptide & no propeptide &  42\\\\\n",
       "\t deeppeptide & blast hit    & Signal peptide & propeptide    &  27\\\\\n",
       "\t deeppeptide & no blast hit & Chain          & no propeptide & 100\\\\\n",
       "\t deeppeptide & no blast hit & Chain          & propeptide    &   8\\\\\n",
       "\t deeppeptide & no blast hit & Signal peptide & no propeptide &  20\\\\\n",
       "\t deeppeptide & no blast hit & Signal peptide & propeptide    &   8\\\\\n",
       "\\end{tabular}\n"
      ],
      "text/markdown": [
       "\n",
       "A grouped_df: 8 × 5\n",
       "\n",
       "| prediction_tool &lt;chr&gt; | peptipedia_blast_result &lt;chr&gt; | deepsig_parent &lt;chr&gt; | has_propeptide &lt;chr&gt; | n &lt;int&gt; |\n",
       "|---|---|---|---|---|\n",
       "| deeppeptide | blast hit    | Chain          | no propeptide |  60 |\n",
       "| deeppeptide | blast hit    | Chain          | propeptide    |  24 |\n",
       "| deeppeptide | blast hit    | Signal peptide | no propeptide |  42 |\n",
       "| deeppeptide | blast hit    | Signal peptide | propeptide    |  27 |\n",
       "| deeppeptide | no blast hit | Chain          | no propeptide | 100 |\n",
       "| deeppeptide | no blast hit | Chain          | propeptide    |   8 |\n",
       "| deeppeptide | no blast hit | Signal peptide | no propeptide |  20 |\n",
       "| deeppeptide | no blast hit | Signal peptide | propeptide    |   8 |\n",
       "\n"
      ],
      "text/plain": [
       "  prediction_tool peptipedia_blast_result deepsig_parent has_propeptide n  \n",
       "1 deeppeptide     blast hit               Chain          no propeptide   60\n",
       "2 deeppeptide     blast hit               Chain          propeptide      24\n",
       "3 deeppeptide     blast hit               Signal peptide no propeptide   42\n",
       "4 deeppeptide     blast hit               Signal peptide propeptide      27\n",
       "5 deeppeptide     no blast hit            Chain          no propeptide  100\n",
       "6 deeppeptide     no blast hit            Chain          propeptide       8\n",
       "7 deeppeptide     no blast hit            Signal peptide no propeptide   20\n",
       "8 deeppeptide     no blast hit            Signal peptide propeptide       8"
      ]
     },
     "metadata": {},
     "output_type": "display_data"
    }
   ],
   "source": [
    "human_results_deepsig %>%\n",
    "  mutate(parent_id = gsub(\"_start.*\", \"\", peptide_id)) %>%\n",
    "  mutate(has_propeptide = ifelse(parent_id %in% propeptide_predictions$parent_id, \"propeptide\", \"no propeptide\")) %>%\n",
    "  filter(prediction_tool == \"deeppeptide\") %>%\n",
    "  select(peptide_type, prediction_tool, sequence, length,\n",
    "         peptipedia_blast_pident, peptipedia_blast_evalue, \n",
    "         peptipedia_blast_bitscore,  peptipedia_blast_result,\n",
    "         deepsig_combined, has_propeptide, deepsig_parent) %>%\n",
    "  distinct() %>%\n",
    "  group_by(prediction_tool, peptipedia_blast_result, deepsig_parent, has_propeptide) %>%\n",
    "  tally()"
   ]
  },
  {
   "cell_type": "code",
   "execution_count": 14,
   "id": "425bd9c3-7e0f-40c7-b6b7-90bb9e1780f7",
   "metadata": {},
   "outputs": [
    {
     "data": {
      "text/plain": [
       "R version 4.3.3 (2024-02-29)\n",
       "Platform: x86_64-apple-darwin13.4.0 (64-bit)\n",
       "Running under: macOS Big Sur ... 10.16\n",
       "\n",
       "Matrix products: default\n",
       "BLAS/LAPACK: /Users/taylorreiter/miniconda3/envs/pepeval/lib/libopenblasp-r0.3.26.dylib;  LAPACK version 3.12.0\n",
       "\n",
       "locale:\n",
       "[1] en_US.UTF-8/en_US.UTF-8/en_US.UTF-8/C/en_US.UTF-8/en_US.UTF-8\n",
       "\n",
       "time zone: America/New_York\n",
       "tzcode source: internal\n",
       "\n",
       "attached base packages:\n",
       "[1] stats     graphics  grDevices utils     datasets  methods   base     \n",
       "\n",
       "other attached packages:\n",
       " [1] lubridate_1.9.3 forcats_1.0.0   stringr_1.5.1   dplyr_1.1.4    \n",
       " [5] purrr_1.0.2     readr_2.1.5     tidyr_1.3.1     tibble_3.2.1   \n",
       " [9] ggplot2_3.5.1   tidyverse_2.0.0\n",
       "\n",
       "loaded via a namespace (and not attached):\n",
       " [1] bit_4.0.5        gtable_0.3.4     jsonlite_1.8.8   compiler_4.3.3  \n",
       " [5] crayon_1.5.2     tidyselect_1.2.0 IRdisplay_1.1    parallel_4.3.3  \n",
       " [9] scales_1.3.0     uuid_1.2-0       fastmap_1.1.1    IRkernel_1.3.2  \n",
       "[13] R6_2.5.1         generics_0.1.3   munsell_0.5.0    pillar_1.9.0    \n",
       "[17] tzdb_0.4.0       rlang_1.1.3      utf8_1.2.4       stringi_1.8.3   \n",
       "[21] repr_1.1.7       bit64_4.0.5      timechange_0.3.0 cli_3.6.2       \n",
       "[25] withr_3.0.0      magrittr_2.0.3   digest_0.6.35    grid_4.3.3      \n",
       "[29] vroom_1.6.5      base64enc_0.1-3  hms_1.1.3        pbdZMQ_0.3-11   \n",
       "[33] lifecycle_1.0.4  vctrs_0.6.5      evaluate_0.23    glue_1.7.0      \n",
       "[37] fansi_1.0.6      colorspace_2.1-0 tools_4.3.3      pkgconfig_2.0.3 \n",
       "[41] htmltools_0.5.8 "
      ]
     },
     "metadata": {},
     "output_type": "display_data"
    }
   ],
   "source": [
    "sessionInfo()"
   ]
  }
 ],
 "metadata": {
  "kernelspec": {
   "display_name": "R",
   "language": "R",
   "name": "ir"
  },
  "language_info": {
   "codemirror_mode": "r",
   "file_extension": ".r",
   "mimetype": "text/x-r-source",
   "name": "R",
   "pygments_lexer": "r",
   "version": "4.3.3"
  }
 },
 "nbformat": 4,
 "nbformat_minor": 5
}
