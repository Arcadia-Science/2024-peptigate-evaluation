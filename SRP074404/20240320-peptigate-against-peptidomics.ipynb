{
 "cells": [
  {
   "cell_type": "markdown",
   "id": "7ef20be7-518f-4adf-90fe-f3e63aa45b53",
   "metadata": {},
   "source": [
    "# Comparing peptigate predictions from RNA-seq data SRP074404 against paired mass spec peptidomics data\n",
    "\n",
    "One way to validate the peptigate peptide predictions is to compare them against mass spectrometry peptidomics data.\n",
    "Peptidomics is a specific mass spec technique that targets small protein sequences.\n",
    "We identified a study where both transcriptomics and peptidomics were undertaken: [\"A gene family coding for salivary proteins (SHOT) of polyphagous spider mite *Tetranychus urticae* exhibits fast host-dependent transcriptional plasticity\"](https://doi.org/10.1094/MPMI-06-17-0139-R).\n",
    "This notebook compares the peptides predicted in the mass spec data vs. those predicted by peptigate.\n",
    "\n",
    "## Background on data\n",
    "\n",
    "### Peptidomics data set (paraphrased methods from paper, some direct quoting)\n",
    "\n",
    "Researchers collected mites from host plants including beans (Phaseolus vulgaris), soybeans (G. max), and tomatoes (S. lycopersicum). The mites were placed on a synthetic diet wrapped in parafilm for 24 hours to feed. After this period, the diet remnants, now mixed with the mites' saliva, were gathered and preserved at −80°C. Once enough material was amassed (about 0.3 ml per sample), it underwent a nano-LC-MS/MS analysis to identify the proteins within the saliva. The saliva-enriched diet underwent filtration using a specific spin-down filter to separate the saliva peptides. These peptides were then purified through solid-phase extraction using a specialized column. The resulting eluate was dried and stored at −80°C until it was ready for mass spec (nano-LC-MS/MS).\n",
    "\n",
    "Peak lists obtained from MS/MS spectra were identified using OMSSA, X!Tandem version X! Tandem Vengeance, and MS-GF+. Protein identification was conducted against a concatenated target/decoy version of the *T. urticae* protein database holding 19,086 *T. urticae* target sequences (version of August 11, 2016, available at OrcAE) and the common cRAP database (116 sequences). Peptide spectrum matches were inferred from the spectrum identification results using PeptideShaker with a 1.0% false discovery rate (FDR) estimated using the decoy hit distribution. The results are in the ProteomeXchange Consortium via the PRIDE partner repository (PXD006385).\n",
    "\n",
    "**Note about peptidomics data**: I think the amino acid sequences reported are full-length proteins for which there were peptide hits in the mass spec data, even though the peptides in the MS data would have been shorter (probably).\n",
    "\n",
    "### RNA-seq data\n",
    "The paired transcriptome data came from *T. urticae* proterosomas containing the salivary glands and intact females in a publication by the same first author as the one cited above.\n",
    "The data are available on the Sequence Read Archive under accession SRP074404.\n",
    "We re-analyzed the transcriptome using reads2transcriptome to generate a *de novo* transcriptome.\n",
    "\n",
    "## Summary of relevant study findings\n",
    "\n",
    "* 279 peptides were identified, of which 216, 116, and 133 were found in the Phaseolus vulgaris, G. max and S. lycopersicum samples, respectively."
   ]
  },
  {
   "cell_type": "markdown",
   "id": "217859f5-86f2-4a2f-b51d-d0578d3e06dc",
   "metadata": {},
   "source": [
    "## Thoughts\n",
    "\n",
    "* Over prediction of sORFs from fragmented transcripts.\n",
    "    * potential filtering step --> For sORFs only, if there is an annotated genome, BLAST the \"peptide\" prediction against those genes. Also BLAST the transcript. If the transcript is a fragment of the gene and has a hit to a protein, then it's probably a fragment that should not be included."
   ]
  },
  {
   "cell_type": "markdown",
   "id": "a1b2a89d-1efa-4891-ad7a-056a8f996c30",
   "metadata": {},
   "source": [
    "## Notebook setup"
   ]
  },
  {
   "cell_type": "code",
   "execution_count": 1,
   "id": "045e6690-744b-4c65-8f23-b68a3aa309b7",
   "metadata": {},
   "outputs": [
    {
     "name": "stderr",
     "output_type": "stream",
     "text": [
      "── \u001b[1mAttaching core tidyverse packages\u001b[22m ──────────────────────────────────────────────────────────────────────────────── tidyverse 2.0.0 ──\n",
      "\u001b[32m✔\u001b[39m \u001b[34mdplyr    \u001b[39m 1.1.4     \u001b[32m✔\u001b[39m \u001b[34mreadr    \u001b[39m 2.1.5\n",
      "\u001b[32m✔\u001b[39m \u001b[34mforcats  \u001b[39m 1.0.0     \u001b[32m✔\u001b[39m \u001b[34mstringr  \u001b[39m 1.5.1\n",
      "\u001b[32m✔\u001b[39m \u001b[34mggplot2  \u001b[39m 3.5.0     \u001b[32m✔\u001b[39m \u001b[34mtibble   \u001b[39m 3.2.1\n",
      "\u001b[32m✔\u001b[39m \u001b[34mlubridate\u001b[39m 1.9.3     \u001b[32m✔\u001b[39m \u001b[34mtidyr    \u001b[39m 1.3.1\n",
      "\u001b[32m✔\u001b[39m \u001b[34mpurrr    \u001b[39m 1.0.2     \n",
      "── \u001b[1mConflicts\u001b[22m ────────────────────────────────────────────────────────────────────────────────────────────────── tidyverse_conflicts() ──\n",
      "\u001b[31m✖\u001b[39m \u001b[34mdplyr\u001b[39m::\u001b[32mfilter()\u001b[39m masks \u001b[34mstats\u001b[39m::filter()\n",
      "\u001b[31m✖\u001b[39m \u001b[34mdplyr\u001b[39m::\u001b[32mlag()\u001b[39m    masks \u001b[34mstats\u001b[39m::lag()\n",
      "\u001b[36mℹ\u001b[39m Use the conflicted package (\u001b[3m\u001b[34m<http://conflicted.r-lib.org/>\u001b[39m\u001b[23m) to force all conflicts to become errors\n"
     ]
    }
   ],
   "source": [
    "library(tidyverse, warn.conflicts = F)\n",
    "library(ggExtra)\n",
    "library(umap)\n",
    "library(Rtsne)"
   ]
  },
  {
   "cell_type": "code",
   "execution_count": 2,
   "id": "a529fd4d-ea79-4140-9e87-3cc5861ae85c",
   "metadata": {},
   "outputs": [],
   "source": [
    "# adjust plot size rendered inline\n",
    "options(repr.plot.width = 5, repr.plot.height = 3, repr.plot.res = 300)"
   ]
  },
  {
   "cell_type": "markdown",
   "id": "ad60fdd8-69a7-4686-bd8c-4de2ad7c7d92",
   "metadata": {},
   "source": [
    "## The transcriptome we assembled is very low quality\n",
    "#### Completeness Assessment Results:                  \n",
    "| Metric | Value |\n",
    "| ------------------------|------------------------------- |\n",
    "| Total number of core genes queried                      | 1013 |\n",
    "| Number of core genes detected                           |\n",
    "|   Complete                                              | 9 (0.89%) |\n",
    "|   Complete + Partial                                    | 11 (1.09%) |\n",
    "| Number of missing core genes                            | 1002 (98.91%) |\n",
    "| Average number of orthologs per core genes              | 1.33 |\n",
    "| % of detected core genes that have more than 1 ortholog | 22.22 |\n",
    "| Scores in BUSCO format                                  | C:0.9%[S:0.7%,D:0.2%],F:0.2%,M:98.9% |\n",
    "\n",
    "#### Length Statistics and Composition:\n",
    "| Metric | Value |\n",
    "| ------------------------|------------------------------- |\n",
    "| Number of sequences                                     | 8634 |\n",
    "| Total length (nt)                                       | 2115051 |\n",
    "| Longest sequence (nt)                                   | 12729 |\n",
    "| Shortest sequence (nt)                                  | 106 |\n",
    "| Mean sequence length (nt)                               | 245 |\n",
    "| Median sequence length (nt)                             | 161 |\n",
    "| N50 sequence length (nt)                                | 178 |\n",
    "| L50 sequence count                                      | 1863 |\n",
    "| Number of sequences > 1K (nt)                           | 181 (2.1% of total number) |\n",
    "| Number of sequences > 10K (nt)                          | 1 (0.0% of total number) |\n",
    "| Number of sequences > 100K (nt)                         | 0 (0.0% of total number) |\n",
    "| Number of sequences > 1M (nt)                           | 0 (0.0% of total number) |\n",
    "| Number of sequences > 10M (nt)                          | 0 (0.0% of total number) |\n",
    "| Number of gaps (>=5 N's)                                |  |\n",
    "| GC-content (%)                                          | 42.91 |\n",
    "| Number of non-ACGTN (nt)                                | 0 |\n",
    "\n",
    "\n",
    "These numbers are abysmal.\n",
    "The transcriptome is very incomplete (missing 98% of genes we expect to see) and very fragmented.\n",
    "**Even still, let's see how we do with this very low quality data.**"
   ]
  },
  {
   "cell_type": "markdown",
   "id": "42e9f1ca-7286-403e-9367-2e9886c8f643",
   "metadata": {},
   "source": [
    "## First, let's investigate how many (parent) peptide sequences ended up in our very bad transcriptome assembly\n",
    "\n",
    "If a parent peptide isn't in the assembly, we won't be able to detect the peptide.\n",
    "A few hundred parent peptides made it into the transcriptome assembly, depending on how we threshold."
   ]
  },
  {
   "cell_type": "code",
   "execution_count": 3,
   "id": "5cb65155-67c9-42de-b4ac-273e5c086039",
   "metadata": {},
   "outputs": [
    {
     "data": {
      "text/html": [
       "18427"
      ],
      "text/latex": [
       "18427"
      ],
      "text/markdown": [
       "18427"
      ],
      "text/plain": [
       "[1] 18427"
      ]
     },
     "metadata": {},
     "output_type": "display_data"
    },
    {
     "data": {
      "text/html": [
       "18427"
      ],
      "text/latex": [
       "18427"
      ],
      "text/markdown": [
       "18427"
      ],
      "text/plain": [
       "[1] 18427"
      ]
     },
     "metadata": {},
     "output_type": "display_data"
    }
   ],
   "source": [
    "peptidomics_tblastn <- read_tsv(\"tblastn/peptidomics_vs_transcriptome_tblastn.tsv.gz\",\n",
    "                                col_names = c(\"qseqid\", \"qlen\", \"qseq\", \"sseqid\", \n",
    "                                              \"slen\", \"sseq\", \"pident\", \n",
    "                                              \"length\", \"mismatch\", \"gapopen\", \n",
    "                                              \"qstart\", \"qend\", \"sstart\", \"send\",\n",
    "                                              \"evalue\", \"bitscore\"),\n",
    "                               show_col_types = F) %>%\n",
    "  # grab just the top hit for each query\n",
    "  group_by(qseqid) %>%\n",
    "  slice_max(bitscore, n = 1) %>%\n",
    "  slice_min(evalue, n = 1) %>%\n",
    "  # if nothing differentiates the matches, just pick one\n",
    "  slice_head(n = 1) %>%\n",
    "  ungroup()\n",
    "\n",
    "nrow(peptidomics_tblastn)\n",
    "length(unique(peptidomics_tblastn$qseqid))"
   ]
  },
  {
   "cell_type": "code",
   "execution_count": 4,
   "id": "c35049a1-97a9-4146-b78b-25d00f140591",
   "metadata": {},
   "outputs": [
    {
     "data": {
      "text/html": [
       "381"
      ],
      "text/latex": [
       "381"
      ],
      "text/markdown": [
       "381"
      ],
      "text/plain": [
       "[1] 381"
      ]
     },
     "metadata": {},
     "output_type": "display_data"
    }
   ],
   "source": [
    "probably_real_matches <- peptidomics_tblastn %>%\n",
    "  mutate(qcov = length / qlen,\n",
    "         scov = length /slen) %>%\n",
    "  filter(qcov > 0.3 | scov > 0.3) %>%\n",
    "  filter(pident > 80) %>%\n",
    "  filter(length > min(qlen)) %>%\n",
    "  arrange(desc(pident)) %>%\n",
    "  select(qseqid, qlen, slen, length, pident, bitscore, qcov, scov)\n",
    "nrow(probably_real_matches)"
   ]
  },
  {
   "cell_type": "code",
   "execution_count": 5,
   "id": "4f9ac4a4-1631-4b9b-a514-ca7706beea8a",
   "metadata": {},
   "outputs": [],
   "source": [
    "peptidomics_tblastn <- peptidomics_tblastn %>%\n",
    "  mutate(probably_real_match = ifelse(qseqid %in% probably_real_matches$qseqid, \"probably real\", \"probably not real\"))"
   ]
  },
  {
   "cell_type": "code",
   "execution_count": 6,
   "id": "520cb9cb-b69f-4647-8bb6-db7eb97c34af",
   "metadata": {},
   "outputs": [
    {
     "data": {
      "image/png": "[encoded data removed]",
      "text/plain": [
       "plot without title"
      ]
     },
     "metadata": {
      "image/png": {
       "height": 450,
       "width": 750
      }
     },
     "output_type": "display_data"
    }
   ],
   "source": [
    "ggplot(peptidomics_tblastn, aes(x = pident, fill = probably_real_match)) +\n",
    "  geom_histogram(bins = 80) +\n",
    "  theme_classic() +\n",
    "  geom_vline(xintercept = 80, color = \"black\")"
   ]
  },
  {
   "cell_type": "markdown",
   "id": "462d2385-3a1b-45de-9810-de9fe4af974d",
   "metadata": {},
   "source": [
    "## Next, let's see how many peptides specifically mentioned in the paper made it into the transcriptome assembly"
   ]
  },
  {
   "cell_type": "code",
   "execution_count": 7,
   "id": "bcfe68c6-d4b4-4cbd-b43b-216fa3630af1",
   "metadata": {},
   "outputs": [],
   "source": [
    "proteinase_inhibitors <- c(\"tetur22g00290\", \"tetur40g00392\", \"tetur95g00060\", \"tetur95g00080\")\n",
    "serine_proteases <- c(\"tetur12g03940\", \"tetur12g03950\", \"tetur30g01440\", \"tetur66g00060\", \"tetur66g00070\")\n",
    "armadillo_folds <- c(\"tetur31g00630\", \"tetur49g00080\")\n",
    "fifty_percent_mapped <- c(\"tetur29g01360\", \"tetur07g00160\", \"tetur07g01660\")\n",
    "slyco_mapped <- c(\"tetur22g00290\", \"tetur30g01440\", \"tetur31g00830\", \"tetur49g00080\")\n",
    "shot_mapped <- c(\"tetur03g03620\", \"tetur03g03670\", \"tetur03g03680\", \"tetur03g03690\", \n",
    "                 \"tetur03g03700\", \"tetur03g03730\", \"tetur03g10083\", \"tetur03g10093\", \n",
    "                 \"tetur11g01360\", \"tetur11g06390\", \"tetur11g06400\")\n",
    "all <- c(proteinase_inhibitors, serine_proteases, armadillo_folds, fifty_percent_mapped,\n",
    "         slyco_mapped, shot_mapped, \"tetur18g00530\")"
   ]
  },
  {
   "cell_type": "code",
   "execution_count": 8,
   "id": "ea535fd2-1725-494c-9c29-a5def4bc84a1",
   "metadata": {},
   "outputs": [
    {
     "data": {
      "text/plain": [
       "\n",
       "FALSE  TRUE \n",
       "  380     1 "
      ]
     },
     "metadata": {},
     "output_type": "display_data"
    }
   ],
   "source": [
    "table(grepl(pattern = paste(all, collapse = \"|\"), x = probably_real_matches$qseqid))"
   ]
  },
  {
   "cell_type": "code",
   "execution_count": 9,
   "id": "549dc8a2-b4f6-4ee2-9fcf-827b695edf51",
   "metadata": {},
   "outputs": [
    {
     "data": {
      "text/html": [
       "30"
      ],
      "text/latex": [
       "30"
      ],
      "text/markdown": [
       "30"
      ],
      "text/plain": [
       "[1] 30"
      ]
     },
     "metadata": {},
     "output_type": "display_data"
    }
   ],
   "source": [
    "length(all)"
   ]
  },
  {
   "cell_type": "code",
   "execution_count": 10,
   "id": "6753bd70-3b8a-44a8-86ec-4927b1915fcb",
   "metadata": {},
   "outputs": [
    {
     "data": {
      "text/html": [
       "<table class=\"dataframe\">\n",
       "<caption>A tibble: 22 × 6</caption>\n",
       "<thead>\n",
       "\t<tr><th scope=col>qseqid</th><th scope=col>pident</th><th scope=col>qlen</th><th scope=col>slen</th><th scope=col>length</th><th scope=col>bitscore</th></tr>\n",
       "\t<tr><th scope=col>&lt;chr&gt;</th><th scope=col>&lt;dbl&gt;</th><th scope=col>&lt;dbl&gt;</th><th scope=col>&lt;dbl&gt;</th><th scope=col>&lt;dbl&gt;</th><th scope=col>&lt;dbl&gt;</th></tr>\n",
       "</thead>\n",
       "<tbody>\n",
       "\t<tr><td>generic|tetur31g00830</td><td>96.721</td><td> 365</td><td> 184</td><td> 61</td><td>120.0</td></tr>\n",
       "\t<tr><td>generic|tetur07g01660</td><td>90.323</td><td>1419</td><td> 153</td><td> 31</td><td> 53.1</td></tr>\n",
       "\t<tr><td>generic|tetur03g10093</td><td>78.947</td><td> 258</td><td> 164</td><td> 19</td><td> 31.6</td></tr>\n",
       "\t<tr><td>generic|tetur29g01360</td><td>77.477</td><td> 526</td><td> 334</td><td>111</td><td>105.0</td></tr>\n",
       "\t<tr><td>generic|tetur03g03730</td><td>77.358</td><td> 258</td><td> 164</td><td> 53</td><td> 29.3</td></tr>\n",
       "\t<tr><td>generic|tetur07g00160</td><td>70.000</td><td>1799</td><td> 157</td><td> 20</td><td> 29.6</td></tr>\n",
       "\t<tr><td>generic|tetur31g00630</td><td>64.000</td><td> 350</td><td> 266</td><td>125</td><td>111.0</td></tr>\n",
       "\t<tr><td>generic|tetur18g00530</td><td>54.545</td><td>  76</td><td> 172</td><td> 11</td><td> 21.9</td></tr>\n",
       "\t<tr><td>generic|tetur11g01360</td><td>47.059</td><td> 322</td><td> 155</td><td> 17</td><td> 24.3</td></tr>\n",
       "\t<tr><td>generic|tetur40g00392</td><td>39.130</td><td> 250</td><td>2400</td><td> 23</td><td> 25.8</td></tr>\n",
       "\t<tr><td>generic|tetur95g00060</td><td>39.130</td><td> 249</td><td>2400</td><td> 23</td><td> 25.4</td></tr>\n",
       "\t<tr><td>generic|tetur95g00080</td><td>39.130</td><td> 249</td><td>2400</td><td> 23</td><td> 25.4</td></tr>\n",
       "\t<tr><td>generic|tetur03g03680</td><td>37.037</td><td> 324</td><td> 190</td><td> 27</td><td> 23.5</td></tr>\n",
       "\t<tr><td>generic|tetur03g03700</td><td>35.897</td><td> 324</td><td> 190</td><td> 39</td><td> 23.9</td></tr>\n",
       "\t<tr><td>generic|tetur03g10083</td><td>35.897</td><td> 324</td><td> 190</td><td> 39</td><td> 24.3</td></tr>\n",
       "\t<tr><td>generic|tetur03g03620</td><td>32.558</td><td> 360</td><td> 170</td><td> 43</td><td> 23.5</td></tr>\n",
       "\t<tr><td>generic|tetur12g03950</td><td>30.357</td><td> 297</td><td>4157</td><td>280</td><td>108.0</td></tr>\n",
       "\t<tr><td>generic|tetur12g03940</td><td>30.000</td><td> 297</td><td>4157</td><td>280</td><td>107.0</td></tr>\n",
       "\t<tr><td>generic|tetur66g00060</td><td>30.000</td><td> 297</td><td>4157</td><td>280</td><td>107.0</td></tr>\n",
       "\t<tr><td>generic|tetur66g00070</td><td>30.000</td><td> 297</td><td>4157</td><td>280</td><td>107.0</td></tr>\n",
       "\t<tr><td>generic|tetur30g01440</td><td>28.315</td><td> 299</td><td>4157</td><td>279</td><td> 98.2</td></tr>\n",
       "\t<tr><td>generic|tetur22g00290</td><td>27.660</td><td> 251</td><td>2616</td><td> 47</td><td> 25.0</td></tr>\n",
       "</tbody>\n",
       "</table>\n"
      ],
      "text/latex": [
       "A tibble: 22 × 6\n",
       "\\begin{tabular}{llllll}\n",
       " qseqid & pident & qlen & slen & length & bitscore\\\\\n",
       " <chr> & <dbl> & <dbl> & <dbl> & <dbl> & <dbl>\\\\\n",
       "\\hline\n",
       "\t generic\\textbar{}tetur31g00830 & 96.721 &  365 &  184 &  61 & 120.0\\\\\n",
       "\t generic\\textbar{}tetur07g01660 & 90.323 & 1419 &  153 &  31 &  53.1\\\\\n",
       "\t generic\\textbar{}tetur03g10093 & 78.947 &  258 &  164 &  19 &  31.6\\\\\n",
       "\t generic\\textbar{}tetur29g01360 & 77.477 &  526 &  334 & 111 & 105.0\\\\\n",
       "\t generic\\textbar{}tetur03g03730 & 77.358 &  258 &  164 &  53 &  29.3\\\\\n",
       "\t generic\\textbar{}tetur07g00160 & 70.000 & 1799 &  157 &  20 &  29.6\\\\\n",
       "\t generic\\textbar{}tetur31g00630 & 64.000 &  350 &  266 & 125 & 111.0\\\\\n",
       "\t generic\\textbar{}tetur18g00530 & 54.545 &   76 &  172 &  11 &  21.9\\\\\n",
       "\t generic\\textbar{}tetur11g01360 & 47.059 &  322 &  155 &  17 &  24.3\\\\\n",
       "\t generic\\textbar{}tetur40g00392 & 39.130 &  250 & 2400 &  23 &  25.8\\\\\n",
       "\t generic\\textbar{}tetur95g00060 & 39.130 &  249 & 2400 &  23 &  25.4\\\\\n",
       "\t generic\\textbar{}tetur95g00080 & 39.130 &  249 & 2400 &  23 &  25.4\\\\\n",
       "\t generic\\textbar{}tetur03g03680 & 37.037 &  324 &  190 &  27 &  23.5\\\\\n",
       "\t generic\\textbar{}tetur03g03700 & 35.897 &  324 &  190 &  39 &  23.9\\\\\n",
       "\t generic\\textbar{}tetur03g10083 & 35.897 &  324 &  190 &  39 &  24.3\\\\\n",
       "\t generic\\textbar{}tetur03g03620 & 32.558 &  360 &  170 &  43 &  23.5\\\\\n",
       "\t generic\\textbar{}tetur12g03950 & 30.357 &  297 & 4157 & 280 & 108.0\\\\\n",
       "\t generic\\textbar{}tetur12g03940 & 30.000 &  297 & 4157 & 280 & 107.0\\\\\n",
       "\t generic\\textbar{}tetur66g00060 & 30.000 &  297 & 4157 & 280 & 107.0\\\\\n",
       "\t generic\\textbar{}tetur66g00070 & 30.000 &  297 & 4157 & 280 & 107.0\\\\\n",
       "\t generic\\textbar{}tetur30g01440 & 28.315 &  299 & 4157 & 279 &  98.2\\\\\n",
       "\t generic\\textbar{}tetur22g00290 & 27.660 &  251 & 2616 &  47 &  25.0\\\\\n",
       "\\end{tabular}\n"
      ],
      "text/markdown": [
       "\n",
       "A tibble: 22 × 6\n",
       "\n",
       "| qseqid &lt;chr&gt; | pident &lt;dbl&gt; | qlen &lt;dbl&gt; | slen &lt;dbl&gt; | length &lt;dbl&gt; | bitscore &lt;dbl&gt; |\n",
       "|---|---|---|---|---|---|\n",
       "| generic|tetur31g00830 | 96.721 |  365 |  184 |  61 | 120.0 |\n",
       "| generic|tetur07g01660 | 90.323 | 1419 |  153 |  31 |  53.1 |\n",
       "| generic|tetur03g10093 | 78.947 |  258 |  164 |  19 |  31.6 |\n",
       "| generic|tetur29g01360 | 77.477 |  526 |  334 | 111 | 105.0 |\n",
       "| generic|tetur03g03730 | 77.358 |  258 |  164 |  53 |  29.3 |\n",
       "| generic|tetur07g00160 | 70.000 | 1799 |  157 |  20 |  29.6 |\n",
       "| generic|tetur31g00630 | 64.000 |  350 |  266 | 125 | 111.0 |\n",
       "| generic|tetur18g00530 | 54.545 |   76 |  172 |  11 |  21.9 |\n",
       "| generic|tetur11g01360 | 47.059 |  322 |  155 |  17 |  24.3 |\n",
       "| generic|tetur40g00392 | 39.130 |  250 | 2400 |  23 |  25.8 |\n",
       "| generic|tetur95g00060 | 39.130 |  249 | 2400 |  23 |  25.4 |\n",
       "| generic|tetur95g00080 | 39.130 |  249 | 2400 |  23 |  25.4 |\n",
       "| generic|tetur03g03680 | 37.037 |  324 |  190 |  27 |  23.5 |\n",
       "| generic|tetur03g03700 | 35.897 |  324 |  190 |  39 |  23.9 |\n",
       "| generic|tetur03g10083 | 35.897 |  324 |  190 |  39 |  24.3 |\n",
       "| generic|tetur03g03620 | 32.558 |  360 |  170 |  43 |  23.5 |\n",
       "| generic|tetur12g03950 | 30.357 |  297 | 4157 | 280 | 108.0 |\n",
       "| generic|tetur12g03940 | 30.000 |  297 | 4157 | 280 | 107.0 |\n",
       "| generic|tetur66g00060 | 30.000 |  297 | 4157 | 280 | 107.0 |\n",
       "| generic|tetur66g00070 | 30.000 |  297 | 4157 | 280 | 107.0 |\n",
       "| generic|tetur30g01440 | 28.315 |  299 | 4157 | 279 |  98.2 |\n",
       "| generic|tetur22g00290 | 27.660 |  251 | 2616 |  47 |  25.0 |\n",
       "\n"
      ],
      "text/plain": [
       "   qseqid                pident qlen slen length bitscore\n",
       "1  generic|tetur31g00830 96.721  365  184  61    120.0   \n",
       "2  generic|tetur07g01660 90.323 1419  153  31     53.1   \n",
       "3  generic|tetur03g10093 78.947  258  164  19     31.6   \n",
       "4  generic|tetur29g01360 77.477  526  334 111    105.0   \n",
       "5  generic|tetur03g03730 77.358  258  164  53     29.3   \n",
       "6  generic|tetur07g00160 70.000 1799  157  20     29.6   \n",
       "7  generic|tetur31g00630 64.000  350  266 125    111.0   \n",
       "8  generic|tetur18g00530 54.545   76  172  11     21.9   \n",
       "9  generic|tetur11g01360 47.059  322  155  17     24.3   \n",
       "10 generic|tetur40g00392 39.130  250 2400  23     25.8   \n",
       "11 generic|tetur95g00060 39.130  249 2400  23     25.4   \n",
       "12 generic|tetur95g00080 39.130  249 2400  23     25.4   \n",
       "13 generic|tetur03g03680 37.037  324  190  27     23.5   \n",
       "14 generic|tetur03g03700 35.897  324  190  39     23.9   \n",
       "15 generic|tetur03g10083 35.897  324  190  39     24.3   \n",
       "16 generic|tetur03g03620 32.558  360  170  43     23.5   \n",
       "17 generic|tetur12g03950 30.357  297 4157 280    108.0   \n",
       "18 generic|tetur12g03940 30.000  297 4157 280    107.0   \n",
       "19 generic|tetur66g00060 30.000  297 4157 280    107.0   \n",
       "20 generic|tetur66g00070 30.000  297 4157 280    107.0   \n",
       "21 generic|tetur30g01440 28.315  299 4157 279     98.2   \n",
       "22 generic|tetur22g00290 27.660  251 2616  47     25.0   "
      ]
     },
     "metadata": {},
     "output_type": "display_data"
    }
   ],
   "source": [
    "peptidomics_tblastn[grepl(pattern = paste(all, collapse = \"|\"), x = peptidomics_tblastn$qseqid), ] %>%\n",
    "  select(qseqid, pident, qlen, slen, length, bitscore) %>%\n",
    "  arrange(desc(pident))"
   ]
  },
  {
   "cell_type": "markdown",
   "id": "02c06ecd-3a80-4ce4-a6df-4ed6f6fb5bbf",
   "metadata": {},
   "source": [
    "22 of 30 peptide parents discussed in the paper had tBLASTn hits in the transcriptome, but only one looks like it might be a real hit.\n",
    "Essentially, we won't be able to compare our predictions to those called out in the paper because these sequences are missing from the input transcriptome."
   ]
  },
  {
   "cell_type": "markdown",
   "id": "fb0a801e-21c3-4bd0-baa7-29718f00a751",
   "metadata": {},
   "source": [
    "## Now, let's see what our peptigate results look like"
   ]
  },
  {
   "cell_type": "markdown",
   "id": "e08d5b66-2812-4249-9513-35b2c8cce761",
   "metadata": {},
   "source": [
    "### Read in and parse peptigate results"
   ]
  },
  {
   "cell_type": "code",
   "execution_count": 11,
   "id": "3ab75a91-3593-49f3-9ac5-a8048a1ad11b",
   "metadata": {},
   "outputs": [
    {
     "name": "stdout",
     "output_type": "stream",
     "text": [
      "[1] \"Total number of results: 3046\"\n",
      "[1] \"Total distinct peptide names: 2954\"\n",
      "[1] \"Total distinct peptide sequences: 2954\"\n"
     ]
    }
   ],
   "source": [
    "srp_predictions <- read_tsv(\"peptigate_results/peptide_predictions.tsv.gz\", show_col_types = F)\n",
    "\n",
    "srp_annotations <- read_tsv(\"peptigate_results/peptide_annotations.tsv.gz\", show_col_types = F) %>%\n",
    "  mutate(length = nchar(sequence)) %>%\n",
    "  mutate(length_split = ifelse(length <31, \"30 or less\", \"31 or greater\")) %>%\n",
    "  mutate(peptipedia_blast_result = ifelse(!is.na(peptipedia_blast_bitscore), \"blast hit\", \"no blast hit\"))\n",
    "\n",
    "srp_results <- left_join(srp_predictions, srp_annotations, by = \"peptide_id\")\n",
    "\n",
    "print(paste0(\"Total number of results: \", nrow(srp_results)))\n",
    "print(paste0(\"Total distinct peptide names: \", length(unique(srp_results$peptide_id))))\n",
    "print(paste0(\"Total distinct peptide sequences: \", length(unique(srp_results$sequence))))\n"
   ]
  },
  {
   "cell_type": "code",
   "execution_count": 12,
   "id": "c0a0e127-360c-4096-bf67-a597ad548dbf",
   "metadata": {},
   "outputs": [
    {
     "data": {
      "text/html": [
       "<table class=\"dataframe\">\n",
       "<caption>A tibble: 3 × 2</caption>\n",
       "<thead>\n",
       "\t<tr><th scope=col>prediction_tool</th><th scope=col>n</th></tr>\n",
       "\t<tr><th scope=col>&lt;chr&gt;</th><th scope=col>&lt;int&gt;</th></tr>\n",
       "</thead>\n",
       "<tbody>\n",
       "\t<tr><td>plmutils    </td><td>2931</td></tr>\n",
       "\t<tr><td>deeppeptide </td><td>  22</td></tr>\n",
       "\t<tr><td>nlpprecursor</td><td>   1</td></tr>\n",
       "</tbody>\n",
       "</table>\n"
      ],
      "text/latex": [
       "A tibble: 3 × 2\n",
       "\\begin{tabular}{ll}\n",
       " prediction\\_tool & n\\\\\n",
       " <chr> & <int>\\\\\n",
       "\\hline\n",
       "\t plmutils     & 2931\\\\\n",
       "\t deeppeptide  &   22\\\\\n",
       "\t nlpprecursor &    1\\\\\n",
       "\\end{tabular}\n"
      ],
      "text/markdown": [
       "\n",
       "A tibble: 3 × 2\n",
       "\n",
       "| prediction_tool &lt;chr&gt; | n &lt;int&gt; |\n",
       "|---|---|\n",
       "| plmutils     | 2931 |\n",
       "| deeppeptide  |   22 |\n",
       "| nlpprecursor |    1 |\n",
       "\n"
      ],
      "text/plain": [
       "  prediction_tool n   \n",
       "1 plmutils        2931\n",
       "2 deeppeptide       22\n",
       "3 nlpprecursor       1"
      ]
     },
     "metadata": {},
     "output_type": "display_data"
    }
   ],
   "source": [
    "# filter to distinct sequences\n",
    "# requires removing metadata columns that might not be the same even if sequences are the same.\n",
    "srp_results_distinct <- srp_results %>%\n",
    "  select(-peptide_id, -start, -end, -peptipedia_blast_sseqid, -peptipedia_blast_full_sseq,\n",
    "         -nlpprecursor_class_score, -nlpprecursor_cleavage_score) %>%\n",
    "  select(peptide_type, peptide_class, prediction_tool, sequence, AB, ACE, ACP, \n",
    "         AF, AMAP, AMP, AOX, APP, AV, BBP, DPPIV, MRSA, Neuro, QS, TOX, TTCA, \n",
    "         aliphatic_index, boman_index, charge, hydrophobicity, instability_index, \n",
    "         isoelectric_point, molecular_weight, pd1_residue_volume, \n",
    "         pd2_hydrophilicity, z1_lipophilicity, z2_steric_bulk_or_polarizability,\n",
    "         z3_polarity_or_charge, z4_electronegativity_etc, z5_electronegativity_etc, \n",
    "         peptipedia_blast_pident, peptipedia_blast_evalue, \n",
    "         peptipedia_blast_bitscore, peptipedia_num_hits, peptipedia_blast_result,\n",
    "         length, length_split) %>%\n",
    "  distinct()\n",
    "\n",
    "srp_results_distinct %>%\n",
    "  group_by(prediction_tool) %>%\n",
    "  tally() %>%\n",
    "  arrange(desc(n))"
   ]
  },
  {
   "cell_type": "markdown",
   "id": "cba311a1-4338-4236-b5b5-2e8f8a2a6879",
   "metadata": {},
   "source": [
    "### How many results had BLASTp hits against peptipedia?\n",
    "\n",
    "If they match against peptipedia, they might be real."
   ]
  },
  {
   "cell_type": "code",
   "execution_count": 13,
   "id": "6b76ba52-3dd4-41e8-bfac-982f080150ca",
   "metadata": {},
   "outputs": [
    {
     "data": {
      "text/html": [
       "<table class=\"dataframe\">\n",
       "<caption>A grouped_df: 4 × 3</caption>\n",
       "<thead>\n",
       "\t<tr><th scope=col>prediction_tool</th><th scope=col>peptipedia_blast_result</th><th scope=col>n</th></tr>\n",
       "\t<tr><th scope=col>&lt;chr&gt;</th><th scope=col>&lt;chr&gt;</th><th scope=col>&lt;int&gt;</th></tr>\n",
       "</thead>\n",
       "<tbody>\n",
       "\t<tr><td>deeppeptide </td><td>no blast hit</td><td>  22</td></tr>\n",
       "\t<tr><td>nlpprecursor</td><td>no blast hit</td><td>   1</td></tr>\n",
       "\t<tr><td>plmutils    </td><td>blast hit   </td><td>   6</td></tr>\n",
       "\t<tr><td>plmutils    </td><td>no blast hit</td><td>2925</td></tr>\n",
       "</tbody>\n",
       "</table>\n"
      ],
      "text/latex": [
       "A grouped\\_df: 4 × 3\n",
       "\\begin{tabular}{lll}\n",
       " prediction\\_tool & peptipedia\\_blast\\_result & n\\\\\n",
       " <chr> & <chr> & <int>\\\\\n",
       "\\hline\n",
       "\t deeppeptide  & no blast hit &   22\\\\\n",
       "\t nlpprecursor & no blast hit &    1\\\\\n",
       "\t plmutils     & blast hit    &    6\\\\\n",
       "\t plmutils     & no blast hit & 2925\\\\\n",
       "\\end{tabular}\n"
      ],
      "text/markdown": [
       "\n",
       "A grouped_df: 4 × 3\n",
       "\n",
       "| prediction_tool &lt;chr&gt; | peptipedia_blast_result &lt;chr&gt; | n &lt;int&gt; |\n",
       "|---|---|---|\n",
       "| deeppeptide  | no blast hit |   22 |\n",
       "| nlpprecursor | no blast hit |    1 |\n",
       "| plmutils     | blast hit    |    6 |\n",
       "| plmutils     | no blast hit | 2925 |\n",
       "\n"
      ],
      "text/plain": [
       "  prediction_tool peptipedia_blast_result n   \n",
       "1 deeppeptide     no blast hit              22\n",
       "2 nlpprecursor    no blast hit               1\n",
       "3 plmutils        blast hit                  6\n",
       "4 plmutils        no blast hit            2925"
      ]
     },
     "metadata": {},
     "output_type": "display_data"
    }
   ],
   "source": [
    "srp_results_distinct %>%\n",
    "  group_by(prediction_tool, peptipedia_blast_result) %>%\n",
    "  tally()"
   ]
  },
  {
   "cell_type": "code",
   "execution_count": 14,
   "id": "112340b7-6083-43cf-922a-533a6b385031",
   "metadata": {},
   "outputs": [
    {
     "data": {
      "text/html": [
       "<table class=\"dataframe\">\n",
       "<caption>A tibble: 6 × 5</caption>\n",
       "<thead>\n",
       "\t<tr><th scope=col>sequence</th><th scope=col>peptipedia_blast_pident</th><th scope=col>peptipedia_blast_evalue</th><th scope=col>peptipedia_blast_bitscore</th><th scope=col>peptipedia_num_hits</th></tr>\n",
       "\t<tr><th scope=col>&lt;chr&gt;</th><th scope=col>&lt;dbl&gt;</th><th scope=col>&lt;dbl&gt;</th><th scope=col>&lt;dbl&gt;</th><th scope=col>&lt;dbl&gt;</th></tr>\n",
       "</thead>\n",
       "<tbody>\n",
       "\t<tr><td>LLADEISPDTCRIWDKATNANFDKDVYRNNTGSLIETYQIFLNKLEDLK</td><td>100.0</td><td>5.80e-08</td><td>44.7</td><td>4</td></tr>\n",
       "\t<tr><td>LETSRFFTRDFEENGSMERVTLFLNLANDPT                  </td><td> 84.6</td><td>4.12e-10</td><td>49.3</td><td>8</td></tr>\n",
       "\t<tr><td>LVPEDKNETDKIHTPRIVPQKLERTPSDTSRSRGCHCFYAGWL      </td><td>100.0</td><td>4.36e-28</td><td>96.7</td><td>1</td></tr>\n",
       "\t<tr><td>LGGASLLIIIGVGLDTVKQIDAKLQQHHYEGILR               </td><td> 47.1</td><td>1.87e-07</td><td>44.3</td><td>2</td></tr>\n",
       "\t<tr><td>LRASPLAGLTPFLNLPAPGRRQSLYFLLRVGRDLCF             </td><td> 54.3</td><td>1.59e-05</td><td>39.3</td><td>1</td></tr>\n",
       "\t<tr><td>LDGATIDFKDTISEQGFTIDNPNAAGSCACGDSFH              </td><td> 77.1</td><td>1.68e-14</td><td>62.8</td><td>2</td></tr>\n",
       "</tbody>\n",
       "</table>\n"
      ],
      "text/latex": [
       "A tibble: 6 × 5\n",
       "\\begin{tabular}{lllll}\n",
       " sequence & peptipedia\\_blast\\_pident & peptipedia\\_blast\\_evalue & peptipedia\\_blast\\_bitscore & peptipedia\\_num\\_hits\\\\\n",
       " <chr> & <dbl> & <dbl> & <dbl> & <dbl>\\\\\n",
       "\\hline\n",
       "\t LLADEISPDTCRIWDKATNANFDKDVYRNNTGSLIETYQIFLNKLEDLK & 100.0 & 5.80e-08 & 44.7 & 4\\\\\n",
       "\t LETSRFFTRDFEENGSMERVTLFLNLANDPT                   &  84.6 & 4.12e-10 & 49.3 & 8\\\\\n",
       "\t LVPEDKNETDKIHTPRIVPQKLERTPSDTSRSRGCHCFYAGWL       & 100.0 & 4.36e-28 & 96.7 & 1\\\\\n",
       "\t LGGASLLIIIGVGLDTVKQIDAKLQQHHYEGILR                &  47.1 & 1.87e-07 & 44.3 & 2\\\\\n",
       "\t LRASPLAGLTPFLNLPAPGRRQSLYFLLRVGRDLCF              &  54.3 & 1.59e-05 & 39.3 & 1\\\\\n",
       "\t LDGATIDFKDTISEQGFTIDNPNAAGSCACGDSFH               &  77.1 & 1.68e-14 & 62.8 & 2\\\\\n",
       "\\end{tabular}\n"
      ],
      "text/markdown": [
       "\n",
       "A tibble: 6 × 5\n",
       "\n",
       "| sequence &lt;chr&gt; | peptipedia_blast_pident &lt;dbl&gt; | peptipedia_blast_evalue &lt;dbl&gt; | peptipedia_blast_bitscore &lt;dbl&gt; | peptipedia_num_hits &lt;dbl&gt; |\n",
       "|---|---|---|---|---|\n",
       "| LLADEISPDTCRIWDKATNANFDKDVYRNNTGSLIETYQIFLNKLEDLK | 100.0 | 5.80e-08 | 44.7 | 4 |\n",
       "| LETSRFFTRDFEENGSMERVTLFLNLANDPT                   |  84.6 | 4.12e-10 | 49.3 | 8 |\n",
       "| LVPEDKNETDKIHTPRIVPQKLERTPSDTSRSRGCHCFYAGWL       | 100.0 | 4.36e-28 | 96.7 | 1 |\n",
       "| LGGASLLIIIGVGLDTVKQIDAKLQQHHYEGILR                |  47.1 | 1.87e-07 | 44.3 | 2 |\n",
       "| LRASPLAGLTPFLNLPAPGRRQSLYFLLRVGRDLCF              |  54.3 | 1.59e-05 | 39.3 | 1 |\n",
       "| LDGATIDFKDTISEQGFTIDNPNAAGSCACGDSFH               |  77.1 | 1.68e-14 | 62.8 | 2 |\n",
       "\n"
      ],
      "text/plain": [
       "  sequence                                          peptipedia_blast_pident\n",
       "1 LLADEISPDTCRIWDKATNANFDKDVYRNNTGSLIETYQIFLNKLEDLK 100.0                  \n",
       "2 LETSRFFTRDFEENGSMERVTLFLNLANDPT                    84.6                  \n",
       "3 LVPEDKNETDKIHTPRIVPQKLERTPSDTSRSRGCHCFYAGWL       100.0                  \n",
       "4 LGGASLLIIIGVGLDTVKQIDAKLQQHHYEGILR                 47.1                  \n",
       "5 LRASPLAGLTPFLNLPAPGRRQSLYFLLRVGRDLCF               54.3                  \n",
       "6 LDGATIDFKDTISEQGFTIDNPNAAGSCACGDSFH                77.1                  \n",
       "  peptipedia_blast_evalue peptipedia_blast_bitscore peptipedia_num_hits\n",
       "1 5.80e-08                44.7                      4                  \n",
       "2 4.12e-10                49.3                      8                  \n",
       "3 4.36e-28                96.7                      1                  \n",
       "4 1.87e-07                44.3                      2                  \n",
       "5 1.59e-05                39.3                      1                  \n",
       "6 1.68e-14                62.8                      2                  "
      ]
     },
     "metadata": {},
     "output_type": "display_data"
    }
   ],
   "source": [
    "srp_results_distinct %>%\n",
    "  filter(peptipedia_blast_result == \"blast hit\") %>%\n",
    "  select(sequence, peptipedia_blast_pident, peptipedia_blast_evalue, \n",
    "         peptipedia_blast_bitscore, peptipedia_num_hits)"
   ]
  },
  {
   "cell_type": "markdown",
   "id": "8b601e8e-5538-48d5-a0c7-9b791658dd21",
   "metadata": {},
   "source": [
    "I quickly BLASTed these sequences against NCBI nr:\n",
    "* LLADEISPDTCRIWDKATNANFDKDVYRNNTGSLIETYQIFLNKLEDLK\thas 100% identity to TPA: phosphoribosylaminoimidazolesuccinocarboxamide synthase Staphylococcus aureus\n",
    "* LETSRFFTRDFEENGSMERVTLFLNLANDPT has 100% identity to Vacuolar ATP synthase subunit B in Friedmanniomyces endolithicus and many other ascomycetes fungi.\n",
    "* LVPEDKNETDKIHTPRIVPQKLERTPSDTSRSRGCHCFYAGWL as 100% identity to E. coli.\n",
    "* LGGASLLIIIGVGLDTVKQIDAKLQQHHYEGILR has 100% identity to preprotein translocase subunit SecY Brachybacterium squillarum.\n",
    "* LRASPLAGLTPFLNLPAPGRRQSLYFLLRVGRDLCF has 60% identity to conserved hypothetical protein Streptomyces sp. SPB78\n",
    "* LDGATIDFKDTISEQGFTIDNPNAAGSCACGDSFH has 100% identity to iron-sulfur cluster insertion protein ErpA Microbacterium sp. CPCC 204701\n",
    "\n",
    "I believe these are real predictions, in particular the bacterial ORFs (I think bacterial ORFs are more like to be short than eukaryotic anyway.\n",
    "\n",
    "This demonstrates that contamination is a real threat in this analysis.\n",
    "**Whenever interested in following up with one of the peptigate peptide predictions, it should be BLASTed against NR to make sure it is not a bacterial or otherwise cosmopolitan sequence.**"
   ]
  },
  {
   "cell_type": "markdown",
   "id": "6c839e80-81b5-4588-a229-d1a2b5d27990",
   "metadata": {},
   "source": [
    "### How many peptigate predictions had BLASTp hits against the peptidomics data set?"
   ]
  },
  {
   "cell_type": "code",
   "execution_count": 15,
   "id": "a86b4493-91a2-4163-a3eb-7a3a55783001",
   "metadata": {},
   "outputs": [],
   "source": [
    "peptidomics_blastp <- read_tsv(\"blastp/peptigate_sequences_vs_peptidomics_blastp.tsv.gz\",\n",
    "                               col_names = c(\"qseqid\", \"qlen\", \"qseq\", \"sseqid\", \n",
    "                                             \"slen\", \"sseq\", \"pident\", \n",
    "                                             \"length\", \"mismatch\", \"gapopen\", \n",
    "                                             \"qstart\", \"qend\", \"sstart\", \"send\",\n",
    "                                             \"evalue\", \"bitscore\"),\n",
    "                              show_col_types = F) %>%\n",
    "  mutate(qcov = length / qlen,\n",
    "         scov = length /slen) %>%\n",
    "  # grab just the top hit for each query\n",
    "  group_by(qseqid) %>%\n",
    "  slice_max(bitscore, n = 1) %>%\n",
    "  slice_min(evalue, n = 1) %>%\n",
    "  # if nothing differentiates the matches, just pick one\n",
    "  slice_head(n = 1) %>%\n",
    "  ungroup() %>%\n",
    "  rename_with(~paste0(\"blastp_\", .))"
   ]
  },
  {
   "cell_type": "code",
   "execution_count": 16,
   "id": "cd3701f1-6d1d-4ff1-b7dd-0c30a700328c",
   "metadata": {},
   "outputs": [
    {
     "data": {
      "text/html": [
       "2641"
      ],
      "text/latex": [
       "2641"
      ],
      "text/markdown": [
       "2641"
      ],
      "text/plain": [
       "[1] 2641"
      ]
     },
     "metadata": {},
     "output_type": "display_data"
    },
    {
     "data": {
      "text/html": [
       "2641"
      ],
      "text/latex": [
       "2641"
      ],
      "text/markdown": [
       "2641"
      ],
      "text/plain": [
       "[1] 2641"
      ]
     },
     "metadata": {},
     "output_type": "display_data"
    }
   ],
   "source": [
    "# join to peptigate metadata and re-filter to distinct\n",
    "# this is verbose and repeats code from above because the distinct data set does not contain the peptide_id to match with\n",
    "peptidomics_blastp <- right_join(srp_results, peptidomics_blastp, by = c(\"peptide_id\" = \"blastp_qseqid\")) %>%\n",
    "  select(peptide_type, peptide_class, prediction_tool, sequence, AB, ACE, ACP, \n",
    "         AF, AMAP, AMP, AOX, APP, AV, BBP, DPPIV, MRSA, Neuro, QS, TOX, TTCA, \n",
    "         aliphatic_index, boman_index, charge, hydrophobicity, instability_index, \n",
    "         isoelectric_point, molecular_weight, pd1_residue_volume, \n",
    "         pd2_hydrophilicity, z1_lipophilicity, z2_steric_bulk_or_polarizability,\n",
    "         z3_polarity_or_charge, z4_electronegativity_etc, z5_electronegativity_etc, \n",
    "         peptipedia_blast_pident, peptipedia_blast_evalue, \n",
    "         peptipedia_blast_bitscore, peptipedia_num_hits, peptipedia_blast_result,\n",
    "         length, length_split, starts_with(\"blastp\")) %>%\n",
    "  distinct()\n",
    "nrow(peptidomics_blastp)\n",
    "length(unique(peptidomics_blastp$sequence))"
   ]
  },
  {
   "cell_type": "code",
   "execution_count": 17,
   "id": "f34f05d8-33c3-4fb2-a441-8db98d983633",
   "metadata": {},
   "outputs": [
    {
     "data": {
      "text/html": [
       "<style>\n",
       ".list-inline {list-style: none; margin:0; padding: 0}\n",
       ".list-inline>li {display: inline-block}\n",
       ".list-inline>li:not(:last-child)::after {content: \"\\00b7\"; padding: 0 .5ex}\n",
       "</style>\n",
       "<ol class=list-inline><li>'peptide_type'</li><li>'peptide_class'</li><li>'prediction_tool'</li><li>'sequence'</li><li>'AB'</li><li>'ACE'</li><li>'ACP'</li><li>'AF'</li><li>'AMAP'</li><li>'AMP'</li><li>'AOX'</li><li>'APP'</li><li>'AV'</li><li>'BBP'</li><li>'DPPIV'</li><li>'MRSA'</li><li>'Neuro'</li><li>'QS'</li><li>'TOX'</li><li>'TTCA'</li><li>'aliphatic_index'</li><li>'boman_index'</li><li>'charge'</li><li>'hydrophobicity'</li><li>'instability_index'</li><li>'isoelectric_point'</li><li>'molecular_weight'</li><li>'pd1_residue_volume'</li><li>'pd2_hydrophilicity'</li><li>'z1_lipophilicity'</li><li>'z2_steric_bulk_or_polarizability'</li><li>'z3_polarity_or_charge'</li><li>'z4_electronegativity_etc'</li><li>'z5_electronegativity_etc'</li><li>'peptipedia_blast_pident'</li><li>'peptipedia_blast_evalue'</li><li>'peptipedia_blast_bitscore'</li><li>'peptipedia_num_hits'</li><li>'peptipedia_blast_result'</li><li>'length'</li><li>'length_split'</li><li>'blastp_qlen'</li><li>'blastp_qseq'</li><li>'blastp_sseqid'</li><li>'blastp_slen'</li><li>'blastp_sseq'</li><li>'blastp_pident'</li><li>'blastp_length'</li><li>'blastp_mismatch'</li><li>'blastp_gapopen'</li><li>'blastp_qstart'</li><li>'blastp_qend'</li><li>'blastp_sstart'</li><li>'blastp_send'</li><li>'blastp_evalue'</li><li>'blastp_bitscore'</li><li>'blastp_qcov'</li><li>'blastp_scov'</li></ol>\n"
      ],
      "text/latex": [
       "\\begin{enumerate*}\n",
       "\\item 'peptide\\_type'\n",
       "\\item 'peptide\\_class'\n",
       "\\item 'prediction\\_tool'\n",
       "\\item 'sequence'\n",
       "\\item 'AB'\n",
       "\\item 'ACE'\n",
       "\\item 'ACP'\n",
       "\\item 'AF'\n",
       "\\item 'AMAP'\n",
       "\\item 'AMP'\n",
       "\\item 'AOX'\n",
       "\\item 'APP'\n",
       "\\item 'AV'\n",
       "\\item 'BBP'\n",
       "\\item 'DPPIV'\n",
       "\\item 'MRSA'\n",
       "\\item 'Neuro'\n",
       "\\item 'QS'\n",
       "\\item 'TOX'\n",
       "\\item 'TTCA'\n",
       "\\item 'aliphatic\\_index'\n",
       "\\item 'boman\\_index'\n",
       "\\item 'charge'\n",
       "\\item 'hydrophobicity'\n",
       "\\item 'instability\\_index'\n",
       "\\item 'isoelectric\\_point'\n",
       "\\item 'molecular\\_weight'\n",
       "\\item 'pd1\\_residue\\_volume'\n",
       "\\item 'pd2\\_hydrophilicity'\n",
       "\\item 'z1\\_lipophilicity'\n",
       "\\item 'z2\\_steric\\_bulk\\_or\\_polarizability'\n",
       "\\item 'z3\\_polarity\\_or\\_charge'\n",
       "\\item 'z4\\_electronegativity\\_etc'\n",
       "\\item 'z5\\_electronegativity\\_etc'\n",
       "\\item 'peptipedia\\_blast\\_pident'\n",
       "\\item 'peptipedia\\_blast\\_evalue'\n",
       "\\item 'peptipedia\\_blast\\_bitscore'\n",
       "\\item 'peptipedia\\_num\\_hits'\n",
       "\\item 'peptipedia\\_blast\\_result'\n",
       "\\item 'length'\n",
       "\\item 'length\\_split'\n",
       "\\item 'blastp\\_qlen'\n",
       "\\item 'blastp\\_qseq'\n",
       "\\item 'blastp\\_sseqid'\n",
       "\\item 'blastp\\_slen'\n",
       "\\item 'blastp\\_sseq'\n",
       "\\item 'blastp\\_pident'\n",
       "\\item 'blastp\\_length'\n",
       "\\item 'blastp\\_mismatch'\n",
       "\\item 'blastp\\_gapopen'\n",
       "\\item 'blastp\\_qstart'\n",
       "\\item 'blastp\\_qend'\n",
       "\\item 'blastp\\_sstart'\n",
       "\\item 'blastp\\_send'\n",
       "\\item 'blastp\\_evalue'\n",
       "\\item 'blastp\\_bitscore'\n",
       "\\item 'blastp\\_qcov'\n",
       "\\item 'blastp\\_scov'\n",
       "\\end{enumerate*}\n"
      ],
      "text/markdown": [
       "1. 'peptide_type'\n",
       "2. 'peptide_class'\n",
       "3. 'prediction_tool'\n",
       "4. 'sequence'\n",
       "5. 'AB'\n",
       "6. 'ACE'\n",
       "7. 'ACP'\n",
       "8. 'AF'\n",
       "9. 'AMAP'\n",
       "10. 'AMP'\n",
       "11. 'AOX'\n",
       "12. 'APP'\n",
       "13. 'AV'\n",
       "14. 'BBP'\n",
       "15. 'DPPIV'\n",
       "16. 'MRSA'\n",
       "17. 'Neuro'\n",
       "18. 'QS'\n",
       "19. 'TOX'\n",
       "20. 'TTCA'\n",
       "21. 'aliphatic_index'\n",
       "22. 'boman_index'\n",
       "23. 'charge'\n",
       "24. 'hydrophobicity'\n",
       "25. 'instability_index'\n",
       "26. 'isoelectric_point'\n",
       "27. 'molecular_weight'\n",
       "28. 'pd1_residue_volume'\n",
       "29. 'pd2_hydrophilicity'\n",
       "30. 'z1_lipophilicity'\n",
       "31. 'z2_steric_bulk_or_polarizability'\n",
       "32. 'z3_polarity_or_charge'\n",
       "33. 'z4_electronegativity_etc'\n",
       "34. 'z5_electronegativity_etc'\n",
       "35. 'peptipedia_blast_pident'\n",
       "36. 'peptipedia_blast_evalue'\n",
       "37. 'peptipedia_blast_bitscore'\n",
       "38. 'peptipedia_num_hits'\n",
       "39. 'peptipedia_blast_result'\n",
       "40. 'length'\n",
       "41. 'length_split'\n",
       "42. 'blastp_qlen'\n",
       "43. 'blastp_qseq'\n",
       "44. 'blastp_sseqid'\n",
       "45. 'blastp_slen'\n",
       "46. 'blastp_sseq'\n",
       "47. 'blastp_pident'\n",
       "48. 'blastp_length'\n",
       "49. 'blastp_mismatch'\n",
       "50. 'blastp_gapopen'\n",
       "51. 'blastp_qstart'\n",
       "52. 'blastp_qend'\n",
       "53. 'blastp_sstart'\n",
       "54. 'blastp_send'\n",
       "55. 'blastp_evalue'\n",
       "56. 'blastp_bitscore'\n",
       "57. 'blastp_qcov'\n",
       "58. 'blastp_scov'\n",
       "\n",
       "\n"
      ],
      "text/plain": [
       " [1] \"peptide_type\"                     \"peptide_class\"                   \n",
       " [3] \"prediction_tool\"                  \"sequence\"                        \n",
       " [5] \"AB\"                               \"ACE\"                             \n",
       " [7] \"ACP\"                              \"AF\"                              \n",
       " [9] \"AMAP\"                             \"AMP\"                             \n",
       "[11] \"AOX\"                              \"APP\"                             \n",
       "[13] \"AV\"                               \"BBP\"                             \n",
       "[15] \"DPPIV\"                            \"MRSA\"                            \n",
       "[17] \"Neuro\"                            \"QS\"                              \n",
       "[19] \"TOX\"                              \"TTCA\"                            \n",
       "[21] \"aliphatic_index\"                  \"boman_index\"                     \n",
       "[23] \"charge\"                           \"hydrophobicity\"                  \n",
       "[25] \"instability_index\"                \"isoelectric_point\"               \n",
       "[27] \"molecular_weight\"                 \"pd1_residue_volume\"              \n",
       "[29] \"pd2_hydrophilicity\"               \"z1_lipophilicity\"                \n",
       "[31] \"z2_steric_bulk_or_polarizability\" \"z3_polarity_or_charge\"           \n",
       "[33] \"z4_electronegativity_etc\"         \"z5_electronegativity_etc\"        \n",
       "[35] \"peptipedia_blast_pident\"          \"peptipedia_blast_evalue\"         \n",
       "[37] \"peptipedia_blast_bitscore\"        \"peptipedia_num_hits\"             \n",
       "[39] \"peptipedia_blast_result\"          \"length\"                          \n",
       "[41] \"length_split\"                     \"blastp_qlen\"                     \n",
       "[43] \"blastp_qseq\"                      \"blastp_sseqid\"                   \n",
       "[45] \"blastp_slen\"                      \"blastp_sseq\"                     \n",
       "[47] \"blastp_pident\"                    \"blastp_length\"                   \n",
       "[49] \"blastp_mismatch\"                  \"blastp_gapopen\"                  \n",
       "[51] \"blastp_qstart\"                    \"blastp_qend\"                     \n",
       "[53] \"blastp_sstart\"                    \"blastp_send\"                     \n",
       "[55] \"blastp_evalue\"                    \"blastp_bitscore\"                 \n",
       "[57] \"blastp_qcov\"                      \"blastp_scov\"                     "
      ]
     },
     "metadata": {},
     "output_type": "display_data"
    }
   ],
   "source": [
    "colnames(peptidomics_blastp)"
   ]
  },
  {
   "cell_type": "code",
   "execution_count": 18,
   "id": "b050afa3-ad6e-4cd4-994c-408668bb90e2",
   "metadata": {},
   "outputs": [],
   "source": [
    "# filter to results that are likely actual hits\n",
    "probably_real_matches_blastp <- peptidomics_blastp %>%\n",
    "  filter(blastp_qcov > 0.5 | blastp_scov > 0.3) %>%\n",
    "  filter(blastp_pident > 80) \n",
    "  #filter(blastp_length > min(blastp_qlen))\n",
    "\n",
    "peptidomics_blastp <- peptidomics_blastp %>%\n",
    "  mutate(probably_real_match = ifelse(sequence %in% probably_real_matches_blastp$sequence, \"probably real\", \"probably not real\"))"
   ]
  },
  {
   "cell_type": "code",
   "execution_count": 19,
   "id": "48d291cd-0288-41b7-8964-b7448236f79c",
   "metadata": {},
   "outputs": [
    {
     "data": {
      "text/plain": [
       "\n",
       "probably not real     probably real \n",
       "             2603                38 "
      ]
     },
     "metadata": {},
     "output_type": "display_data"
    }
   ],
   "source": [
    "table(peptidomics_blastp$probably_real_match)"
   ]
  },
  {
   "cell_type": "code",
   "execution_count": 20,
   "id": "69f75e4c-e3fd-4c18-899c-901264595311",
   "metadata": {},
   "outputs": [
    {
     "data": {
      "image/png": "[encoded data removed]",
      "text/plain": [
       "plot without title"
      ]
     },
     "metadata": {
      "image/png": {
       "height": 450,
       "width": 750
      }
     },
     "output_type": "display_data"
    }
   ],
   "source": [
    "ggplot(peptidomics_blastp, aes(x = blastp_pident, fill = probably_real_match)) +\n",
    "  geom_histogram(bins = 80) +\n",
    "  theme_classic() +\n",
    "  geom_vline(xintercept = 80, color = \"red\")"
   ]
  },
  {
   "cell_type": "code",
   "execution_count": 21,
   "id": "22b2ab4a-ee4c-4f09-80a2-11ec5203f3c9",
   "metadata": {},
   "outputs": [
    {
     "data": {
      "text/html": [
       "<table class=\"dataframe\">\n",
       "<caption>A tibble: 64 × 12</caption>\n",
       "<thead>\n",
       "\t<tr><th scope=col>prediction_tool</th><th scope=col>probably_real_match</th><th scope=col>blastp_sseqid</th><th scope=col>blastp_pident</th><th scope=col>blastp_length</th><th scope=col>blastp_qlen</th><th scope=col>blastp_slen</th><th scope=col>blastp_mismatch</th><th scope=col>blastp_evalue</th><th scope=col>blastp_bitscore</th><th scope=col>blastp_qcov</th><th scope=col>blastp_scov</th></tr>\n",
       "\t<tr><th scope=col>&lt;chr&gt;</th><th scope=col>&lt;chr&gt;</th><th scope=col>&lt;chr&gt;</th><th scope=col>&lt;dbl&gt;</th><th scope=col>&lt;dbl&gt;</th><th scope=col>&lt;dbl&gt;</th><th scope=col>&lt;dbl&gt;</th><th scope=col>&lt;dbl&gt;</th><th scope=col>&lt;dbl&gt;</th><th scope=col>&lt;dbl&gt;</th><th scope=col>&lt;dbl&gt;</th><th scope=col>&lt;dbl&gt;</th></tr>\n",
       "</thead>\n",
       "<tbody>\n",
       "\t<tr><td>nlpprecursor</td><td>probably real</td><td>generic|tetur23g00830 </td><td>100.000</td><td>20</td><td>20</td><td> 809</td><td>0</td><td>6.17e-09</td><td> 46.6</td><td>1.0000000</td><td>0.02472188</td></tr>\n",
       "\t<tr><td>deeppeptide </td><td>probably real</td><td>generic|tetur01g05620 </td><td>100.000</td><td>49</td><td>49</td><td>1293</td><td>0</td><td>2.16e-26</td><td> 97.8</td><td>1.0000000</td><td>0.03789637</td></tr>\n",
       "\t<tr><td>deeppeptide </td><td>probably real</td><td>generic|tetur02g02930 </td><td>100.000</td><td>30</td><td>30</td><td> 522</td><td>0</td><td>4.38e-14</td><td> 61.6</td><td>1.0000000</td><td>0.05747126</td></tr>\n",
       "\t<tr><td>deeppeptide </td><td>probably real</td><td>generic|tetur16g00590 </td><td>100.000</td><td>25</td><td>25</td><td>  92</td><td>0</td><td>1.19e-11</td><td> 51.6</td><td>1.0000000</td><td>0.27173913</td></tr>\n",
       "\t<tr><td>deeppeptide </td><td>probably real</td><td>generic|tetur21g01930 </td><td>100.000</td><td>18</td><td>18</td><td> 159</td><td>0</td><td>2.17e-07</td><td> 41.6</td><td>1.0000000</td><td>0.11320755</td></tr>\n",
       "\t<tr><td>deeppeptide </td><td>probably real</td><td>generic|tetur13g00300 </td><td>100.000</td><td> 9</td><td> 9</td><td> 569</td><td>0</td><td>1.60e+00</td><td> 21.9</td><td>1.0000000</td><td>0.01581722</td></tr>\n",
       "\t<tr><td>deeppeptide </td><td>probably real</td><td>generic|tetur03g07860 </td><td>100.000</td><td>24</td><td>24</td><td> 234</td><td>0</td><td>1.38e-10</td><td> 51.2</td><td>1.0000000</td><td>0.10256410</td></tr>\n",
       "\t<tr><td>deeppeptide </td><td>probably real</td><td>generic|tetur03g07860 </td><td>100.000</td><td>28</td><td>28</td><td> 234</td><td>0</td><td>7.10e-14</td><td> 60.1</td><td>1.0000000</td><td>0.11965812</td></tr>\n",
       "\t<tr><td>plmutils    </td><td>probably real</td><td>generic|tetur16g90569 </td><td>100.000</td><td>53</td><td>65</td><td>  53</td><td>0</td><td>4.82e-34</td><td>109.0</td><td>0.8153846</td><td>1.00000000</td></tr>\n",
       "\t<tr><td>plmutils    </td><td>probably real</td><td>generic|tetur48g00030 </td><td>100.000</td><td>69</td><td>70</td><td> 234</td><td>0</td><td>4.76e-46</td><td>145.0</td><td>0.9857143</td><td>0.29487179</td></tr>\n",
       "\t<tr><td>plmutils    </td><td>probably real</td><td>generic|tetur03g07910 </td><td>100.000</td><td>66</td><td>66</td><td> 371</td><td>0</td><td>3.93e-40</td><td>133.0</td><td>1.0000000</td><td>0.17789757</td></tr>\n",
       "\t<tr><td>plmutils    </td><td>probably real</td><td>generic|tetur16g00810 </td><td>100.000</td><td>41</td><td>41</td><td> 354</td><td>0</td><td>1.72e-23</td><td> 88.2</td><td>1.0000000</td><td>0.11581921</td></tr>\n",
       "\t<tr><td>plmutils    </td><td>probably real</td><td>generic|tetur211g00010</td><td>100.000</td><td>24</td><td>24</td><td> 207</td><td>0</td><td>4.41e-12</td><td> 55.1</td><td>1.0000000</td><td>0.11594203</td></tr>\n",
       "\t<tr><td>plmutils    </td><td>probably real</td><td>generic|tetur01g00640 </td><td>100.000</td><td>17</td><td>23</td><td>  28</td><td>0</td><td>1.44e-06</td><td> 37.4</td><td>0.7391304</td><td>0.60714286</td></tr>\n",
       "\t<tr><td>plmutils    </td><td>probably real</td><td>generic|tetur01g07330 </td><td>100.000</td><td>15</td><td>22</td><td> 278</td><td>0</td><td>2.00e-03</td><td> 31.2</td><td>0.6818182</td><td>0.05395683</td></tr>\n",
       "\t<tr><td>plmutils    </td><td>probably real</td><td>generic|tetur01g03150 </td><td>100.000</td><td>12</td><td>15</td><td>  98</td><td>0</td><td>4.00e-02</td><td> 26.6</td><td>0.8000000</td><td>0.12244898</td></tr>\n",
       "\t<tr><td>plmutils    </td><td>probably real</td><td>generic|tetur07g06430 </td><td>100.000</td><td>24</td><td>26</td><td> 443</td><td>0</td><td>6.48e-10</td><td> 49.7</td><td>0.9230769</td><td>0.05417607</td></tr>\n",
       "\t<tr><td>plmutils    </td><td>probably real</td><td>generic|tetur10g05570 </td><td>100.000</td><td>72</td><td>72</td><td>  72</td><td>0</td><td>4.23e-48</td><td>145.0</td><td>1.0000000</td><td>1.00000000</td></tr>\n",
       "\t<tr><td>plmutils    </td><td>probably real</td><td>generic|tetur24g02787 </td><td>100.000</td><td>32</td><td>32</td><td> 435</td><td>0</td><td>1.30e-14</td><td> 63.2</td><td>1.0000000</td><td>0.07356322</td></tr>\n",
       "\t<tr><td>plmutils    </td><td>probably real</td><td>generic|tetur10g01880 </td><td>100.000</td><td>30</td><td>30</td><td> 303</td><td>0</td><td>4.77e-16</td><td> 67.0</td><td>1.0000000</td><td>0.09900990</td></tr>\n",
       "\t<tr><td>plmutils    </td><td>probably real</td><td>generic|tetur11g04690 </td><td>100.000</td><td>51</td><td>53</td><td> 310</td><td>0</td><td>1.46e-33</td><td>114.0</td><td>0.9622642</td><td>0.16451613</td></tr>\n",
       "\t<tr><td>plmutils    </td><td>probably real</td><td>generic|tetur22g01370 </td><td>100.000</td><td>30</td><td>30</td><td> 149</td><td>0</td><td>2.17e-16</td><td> 65.5</td><td>1.0000000</td><td>0.20134228</td></tr>\n",
       "\t<tr><td>plmutils    </td><td>probably real</td><td>generic|tetur31g00040 </td><td>100.000</td><td>81</td><td>81</td><td> 145</td><td>0</td><td>3.18e-54</td><td>163.0</td><td>1.0000000</td><td>0.55862069</td></tr>\n",
       "\t<tr><td>plmutils    </td><td>probably real</td><td>generic|tetur04g05500 </td><td> 98.148</td><td>54</td><td>54</td><td> 445</td><td>1</td><td>1.20e-30</td><td>108.0</td><td>1.0000000</td><td>0.12134831</td></tr>\n",
       "\t<tr><td>plmutils    </td><td>probably real</td><td>generic|tetur01g14950 </td><td> 97.802</td><td>91</td><td>91</td><td> 453</td><td>2</td><td>1.42e-58</td><td>184.0</td><td>1.0000000</td><td>0.20088300</td></tr>\n",
       "\t<tr><td>plmutils    </td><td>probably real</td><td>generic|tetur02g01350 </td><td> 97.059</td><td>34</td><td>34</td><td> 193</td><td>1</td><td>2.55e-18</td><td> 71.6</td><td>1.0000000</td><td>0.17616580</td></tr>\n",
       "\t<tr><td>plmutils    </td><td>probably real</td><td>generic|tetur21g00480 </td><td> 96.154</td><td>26</td><td>26</td><td>1291</td><td>1</td><td>6.56e-14</td><td> 60.8</td><td>1.0000000</td><td>0.02013943</td></tr>\n",
       "\t<tr><td>plmutils    </td><td>probably real</td><td>generic|tetur14g00900 </td><td> 95.238</td><td>42</td><td>42</td><td>1000</td><td>2</td><td>2.84e-23</td><td> 88.6</td><td>1.0000000</td><td>0.04200000</td></tr>\n",
       "\t<tr><td>plmutils    </td><td>probably real</td><td>generic|tetur16g00790 </td><td> 94.118</td><td>17</td><td>24</td><td> 137</td><td>1</td><td>6.58e-06</td><td> 37.7</td><td>0.7083333</td><td>0.12408759</td></tr>\n",
       "\t<tr><td>plmutils    </td><td>probably real</td><td>generic|tetur30g01850 </td><td> 92.982</td><td>57</td><td>57</td><td>  57</td><td>4</td><td>5.50e-34</td><td>108.0</td><td>1.0000000</td><td>1.00000000</td></tr>\n",
       "\t<tr><td>⋮</td><td>⋮</td><td>⋮</td><td>⋮</td><td>⋮</td><td>⋮</td><td>⋮</td><td>⋮</td><td>⋮</td><td>⋮</td><td>⋮</td><td>⋮</td></tr>\n",
       "\t<tr><td>plmutils   </td><td>probably real    </td><td>generic|tetur285g00020</td><td> 81.818</td><td>11</td><td>16</td><td> 234</td><td> 2</td><td>5.30e-01</td><td>23.9</td><td>0.6875000</td><td>0.047008547</td></tr>\n",
       "\t<tr><td>plmutils   </td><td>probably real    </td><td>generic|tetur14g03010 </td><td> 81.818</td><td>11</td><td>20</td><td> 399</td><td> 2</td><td>7.70e+00</td><td>20.8</td><td>0.5500000</td><td>0.027568922</td></tr>\n",
       "\t<tr><td>plmutils   </td><td>probably real    </td><td>generic|tetur03g05970 </td><td> 80.645</td><td>31</td><td>31</td><td> 498</td><td> 6</td><td>1.97e-12</td><td>57.0</td><td>1.0000000</td><td>0.062248996</td></tr>\n",
       "\t<tr><td>plmutils   </td><td>probably real    </td><td>generic|tetur516g00020</td><td> 80.357</td><td>56</td><td>56</td><td> 812</td><td>11</td><td>6.09e-26</td><td>96.7</td><td>1.0000000</td><td>0.068965517</td></tr>\n",
       "\t<tr><td>plmutils   </td><td>probably not real</td><td>generic|tetur21g00630 </td><td>100.000</td><td> 6</td><td>22</td><td>1659</td><td> 0</td><td>7.20e-01</td><td>23.9</td><td>0.2727273</td><td>0.003616637</td></tr>\n",
       "\t<tr><td>plmutils   </td><td>probably not real</td><td>generic|tetur41g00150 </td><td>100.000</td><td> 7</td><td>22</td><td> 519</td><td> 0</td><td>1.10e+00</td><td>23.5</td><td>0.3181818</td><td>0.013487476</td></tr>\n",
       "\t<tr><td>plmutils   </td><td>probably not real</td><td>generic|tetur01g03130 </td><td>100.000</td><td>14</td><td>28</td><td>  87</td><td> 0</td><td>4.40e-04</td><td>32.3</td><td>0.5000000</td><td>0.160919540</td></tr>\n",
       "\t<tr><td>plmutils   </td><td>probably not real</td><td>generic|tetur09g04710 </td><td>100.000</td><td> 9</td><td>23</td><td>1298</td><td> 0</td><td>3.40e+00</td><td>21.9</td><td>0.3913043</td><td>0.006933744</td></tr>\n",
       "\t<tr><td>plmutils   </td><td>probably not real</td><td>generic|tetur06g01640 </td><td>100.000</td><td> 8</td><td>16</td><td> 183</td><td> 0</td><td>4.30e+00</td><td>21.2</td><td>0.5000000</td><td>0.043715847</td></tr>\n",
       "\t<tr><td>plmutils   </td><td>probably not real</td><td>generic|tetur07g04120 </td><td>100.000</td><td> 8</td><td>19</td><td>1363</td><td> 0</td><td>8.70e+00</td><td>20.4</td><td>0.4210526</td><td>0.005869406</td></tr>\n",
       "\t<tr><td>plmutils   </td><td>probably not real</td><td>generic|tetur24g00470 </td><td> 90.000</td><td>10</td><td>20</td><td> 242</td><td> 1</td><td>2.20e-01</td><td>25.0</td><td>0.5000000</td><td>0.041322314</td></tr>\n",
       "\t<tr><td>plmutils   </td><td>probably not real</td><td>generic|tetur02g14360 </td><td> 90.000</td><td>10</td><td>49</td><td> 431</td><td> 1</td><td>2.20e+00</td><td>24.3</td><td>0.2040816</td><td>0.023201856</td></tr>\n",
       "\t<tr><td>plmutils   </td><td>probably not real</td><td>generic|tetur12g03490 </td><td> 88.889</td><td> 9</td><td>27</td><td> 225</td><td> 1</td><td>6.10e+00</td><td>21.6</td><td>0.3333333</td><td>0.040000000</td></tr>\n",
       "\t<tr><td>plmutils   </td><td>probably not real</td><td>generic|tetur02g11810 </td><td> 88.889</td><td> 9</td><td>18</td><td> 628</td><td> 1</td><td>1.70e+00</td><td>22.3</td><td>0.5000000</td><td>0.014331210</td></tr>\n",
       "\t<tr><td>plmutils   </td><td>probably not real</td><td>generic|tetur02g10100 </td><td> 88.889</td><td> 9</td><td>28</td><td>1235</td><td> 1</td><td>1.10e+00</td><td>23.9</td><td>0.3214286</td><td>0.007287449</td></tr>\n",
       "\t<tr><td>deeppeptide</td><td>probably not real</td><td>generic|tetur05g05290 </td><td> 87.500</td><td> 8</td><td>18</td><td> 225</td><td> 1</td><td>1.70e+00</td><td>22.3</td><td>0.4444444</td><td>0.035555556</td></tr>\n",
       "\t<tr><td>plmutils   </td><td>probably not real</td><td>generic|tetur06g91418 </td><td> 87.500</td><td> 8</td><td>23</td><td> 478</td><td> 1</td><td>6.50e+00</td><td>21.2</td><td>0.3478261</td><td>0.016736402</td></tr>\n",
       "\t<tr><td>plmutils   </td><td>probably not real</td><td>generic|tetur19g03367 </td><td> 87.500</td><td> 8</td><td>33</td><td> 187</td><td> 1</td><td>2.60e+00</td><td>23.1</td><td>0.2424242</td><td>0.042780749</td></tr>\n",
       "\t<tr><td>plmutils   </td><td>probably not real</td><td>generic|tetur12g02910 </td><td> 87.500</td><td> 8</td><td>43</td><td> 880</td><td> 1</td><td>1.40e+00</td><td>24.3</td><td>0.1860465</td><td>0.009090909</td></tr>\n",
       "\t<tr><td>plmutils   </td><td>probably not real</td><td>generic|tetur32g01750 </td><td> 87.500</td><td> 8</td><td>19</td><td> 378</td><td> 1</td><td>4.40e+00</td><td>21.6</td><td>0.4210526</td><td>0.021164021</td></tr>\n",
       "\t<tr><td>plmutils   </td><td>probably not real</td><td>generic|tetur21g02190 </td><td> 87.500</td><td> 8</td><td>22</td><td> 615</td><td> 1</td><td>2.00e+00</td><td>22.7</td><td>0.3636364</td><td>0.013008130</td></tr>\n",
       "\t<tr><td>plmutils   </td><td>probably not real</td><td>generic|tetur09g02260 </td><td> 87.500</td><td> 8</td><td>22</td><td> 408</td><td> 1</td><td>2.00e+00</td><td>22.7</td><td>0.3636364</td><td>0.019607843</td></tr>\n",
       "\t<tr><td>plmutils   </td><td>probably not real</td><td>generic|tetur30g02210 </td><td> 85.714</td><td> 7</td><td>15</td><td>1281</td><td> 1</td><td>1.20e+00</td><td>22.7</td><td>0.4666667</td><td>0.005464481</td></tr>\n",
       "\t<tr><td>plmutils   </td><td>probably not real</td><td>generic|tetur08g05230 </td><td> 85.714</td><td> 7</td><td>39</td><td> 998</td><td> 1</td><td>7.10e+00</td><td>22.3</td><td>0.1794872</td><td>0.007014028</td></tr>\n",
       "\t<tr><td>plmutils   </td><td>probably not real</td><td>generic|tetur01g05440 </td><td> 85.714</td><td> 7</td><td>25</td><td>  96</td><td> 1</td><td>3.90e+00</td><td>21.9</td><td>0.2800000</td><td>0.072916667</td></tr>\n",
       "\t<tr><td>plmutils   </td><td>probably not real</td><td>generic|tetur12g04420 </td><td> 83.333</td><td>12</td><td>28</td><td> 522</td><td> 2</td><td>6.40e+00</td><td>21.6</td><td>0.4285714</td><td>0.022988506</td></tr>\n",
       "\t<tr><td>plmutils   </td><td>probably not real</td><td>generic|tetur36g01280 </td><td> 83.333</td><td>12</td><td>24</td><td> 783</td><td> 2</td><td>1.20e+00</td><td>23.5</td><td>0.5000000</td><td>0.015325670</td></tr>\n",
       "\t<tr><td>plmutils   </td><td>probably not real</td><td>generic|tetur09g05530 </td><td> 83.333</td><td>12</td><td>27</td><td>1811</td><td> 2</td><td>2.00e+00</td><td>23.1</td><td>0.4444444</td><td>0.006626173</td></tr>\n",
       "\t<tr><td>plmutils   </td><td>probably not real</td><td>generic|tetur30g02380 </td><td> 81.818</td><td>11</td><td>32</td><td> 920</td><td> 2</td><td>3.10e+00</td><td>22.7</td><td>0.3437500</td><td>0.011956522</td></tr>\n",
       "\t<tr><td>plmutils   </td><td>probably not real</td><td>generic|tetur22g00900 </td><td> 81.818</td><td>11</td><td>26</td><td> 547</td><td> 2</td><td>4.30e-01</td><td>24.6</td><td>0.4230769</td><td>0.020109689</td></tr>\n",
       "</tbody>\n",
       "</table>\n"
      ],
      "text/latex": [
       "A tibble: 64 × 12\n",
       "\\begin{tabular}{llllllllllll}\n",
       " prediction\\_tool & probably\\_real\\_match & blastp\\_sseqid & blastp\\_pident & blastp\\_length & blastp\\_qlen & blastp\\_slen & blastp\\_mismatch & blastp\\_evalue & blastp\\_bitscore & blastp\\_qcov & blastp\\_scov\\\\\n",
       " <chr> & <chr> & <chr> & <dbl> & <dbl> & <dbl> & <dbl> & <dbl> & <dbl> & <dbl> & <dbl> & <dbl>\\\\\n",
       "\\hline\n",
       "\t nlpprecursor & probably real & generic\\textbar{}tetur23g00830  & 100.000 & 20 & 20 &  809 & 0 & 6.17e-09 &  46.6 & 1.0000000 & 0.02472188\\\\\n",
       "\t deeppeptide  & probably real & generic\\textbar{}tetur01g05620  & 100.000 & 49 & 49 & 1293 & 0 & 2.16e-26 &  97.8 & 1.0000000 & 0.03789637\\\\\n",
       "\t deeppeptide  & probably real & generic\\textbar{}tetur02g02930  & 100.000 & 30 & 30 &  522 & 0 & 4.38e-14 &  61.6 & 1.0000000 & 0.05747126\\\\\n",
       "\t deeppeptide  & probably real & generic\\textbar{}tetur16g00590  & 100.000 & 25 & 25 &   92 & 0 & 1.19e-11 &  51.6 & 1.0000000 & 0.27173913\\\\\n",
       "\t deeppeptide  & probably real & generic\\textbar{}tetur21g01930  & 100.000 & 18 & 18 &  159 & 0 & 2.17e-07 &  41.6 & 1.0000000 & 0.11320755\\\\\n",
       "\t deeppeptide  & probably real & generic\\textbar{}tetur13g00300  & 100.000 &  9 &  9 &  569 & 0 & 1.60e+00 &  21.9 & 1.0000000 & 0.01581722\\\\\n",
       "\t deeppeptide  & probably real & generic\\textbar{}tetur03g07860  & 100.000 & 24 & 24 &  234 & 0 & 1.38e-10 &  51.2 & 1.0000000 & 0.10256410\\\\\n",
       "\t deeppeptide  & probably real & generic\\textbar{}tetur03g07860  & 100.000 & 28 & 28 &  234 & 0 & 7.10e-14 &  60.1 & 1.0000000 & 0.11965812\\\\\n",
       "\t plmutils     & probably real & generic\\textbar{}tetur16g90569  & 100.000 & 53 & 65 &   53 & 0 & 4.82e-34 & 109.0 & 0.8153846 & 1.00000000\\\\\n",
       "\t plmutils     & probably real & generic\\textbar{}tetur48g00030  & 100.000 & 69 & 70 &  234 & 0 & 4.76e-46 & 145.0 & 0.9857143 & 0.29487179\\\\\n",
       "\t plmutils     & probably real & generic\\textbar{}tetur03g07910  & 100.000 & 66 & 66 &  371 & 0 & 3.93e-40 & 133.0 & 1.0000000 & 0.17789757\\\\\n",
       "\t plmutils     & probably real & generic\\textbar{}tetur16g00810  & 100.000 & 41 & 41 &  354 & 0 & 1.72e-23 &  88.2 & 1.0000000 & 0.11581921\\\\\n",
       "\t plmutils     & probably real & generic\\textbar{}tetur211g00010 & 100.000 & 24 & 24 &  207 & 0 & 4.41e-12 &  55.1 & 1.0000000 & 0.11594203\\\\\n",
       "\t plmutils     & probably real & generic\\textbar{}tetur01g00640  & 100.000 & 17 & 23 &   28 & 0 & 1.44e-06 &  37.4 & 0.7391304 & 0.60714286\\\\\n",
       "\t plmutils     & probably real & generic\\textbar{}tetur01g07330  & 100.000 & 15 & 22 &  278 & 0 & 2.00e-03 &  31.2 & 0.6818182 & 0.05395683\\\\\n",
       "\t plmutils     & probably real & generic\\textbar{}tetur01g03150  & 100.000 & 12 & 15 &   98 & 0 & 4.00e-02 &  26.6 & 0.8000000 & 0.12244898\\\\\n",
       "\t plmutils     & probably real & generic\\textbar{}tetur07g06430  & 100.000 & 24 & 26 &  443 & 0 & 6.48e-10 &  49.7 & 0.9230769 & 0.05417607\\\\\n",
       "\t plmutils     & probably real & generic\\textbar{}tetur10g05570  & 100.000 & 72 & 72 &   72 & 0 & 4.23e-48 & 145.0 & 1.0000000 & 1.00000000\\\\\n",
       "\t plmutils     & probably real & generic\\textbar{}tetur24g02787  & 100.000 & 32 & 32 &  435 & 0 & 1.30e-14 &  63.2 & 1.0000000 & 0.07356322\\\\\n",
       "\t plmutils     & probably real & generic\\textbar{}tetur10g01880  & 100.000 & 30 & 30 &  303 & 0 & 4.77e-16 &  67.0 & 1.0000000 & 0.09900990\\\\\n",
       "\t plmutils     & probably real & generic\\textbar{}tetur11g04690  & 100.000 & 51 & 53 &  310 & 0 & 1.46e-33 & 114.0 & 0.9622642 & 0.16451613\\\\\n",
       "\t plmutils     & probably real & generic\\textbar{}tetur22g01370  & 100.000 & 30 & 30 &  149 & 0 & 2.17e-16 &  65.5 & 1.0000000 & 0.20134228\\\\\n",
       "\t plmutils     & probably real & generic\\textbar{}tetur31g00040  & 100.000 & 81 & 81 &  145 & 0 & 3.18e-54 & 163.0 & 1.0000000 & 0.55862069\\\\\n",
       "\t plmutils     & probably real & generic\\textbar{}tetur04g05500  &  98.148 & 54 & 54 &  445 & 1 & 1.20e-30 & 108.0 & 1.0000000 & 0.12134831\\\\\n",
       "\t plmutils     & probably real & generic\\textbar{}tetur01g14950  &  97.802 & 91 & 91 &  453 & 2 & 1.42e-58 & 184.0 & 1.0000000 & 0.20088300\\\\\n",
       "\t plmutils     & probably real & generic\\textbar{}tetur02g01350  &  97.059 & 34 & 34 &  193 & 1 & 2.55e-18 &  71.6 & 1.0000000 & 0.17616580\\\\\n",
       "\t plmutils     & probably real & generic\\textbar{}tetur21g00480  &  96.154 & 26 & 26 & 1291 & 1 & 6.56e-14 &  60.8 & 1.0000000 & 0.02013943\\\\\n",
       "\t plmutils     & probably real & generic\\textbar{}tetur14g00900  &  95.238 & 42 & 42 & 1000 & 2 & 2.84e-23 &  88.6 & 1.0000000 & 0.04200000\\\\\n",
       "\t plmutils     & probably real & generic\\textbar{}tetur16g00790  &  94.118 & 17 & 24 &  137 & 1 & 6.58e-06 &  37.7 & 0.7083333 & 0.12408759\\\\\n",
       "\t plmutils     & probably real & generic\\textbar{}tetur30g01850  &  92.982 & 57 & 57 &   57 & 4 & 5.50e-34 & 108.0 & 1.0000000 & 1.00000000\\\\\n",
       "\t ⋮ & ⋮ & ⋮ & ⋮ & ⋮ & ⋮ & ⋮ & ⋮ & ⋮ & ⋮ & ⋮ & ⋮\\\\\n",
       "\t plmutils    & probably real     & generic\\textbar{}tetur285g00020 &  81.818 & 11 & 16 &  234 &  2 & 5.30e-01 & 23.9 & 0.6875000 & 0.047008547\\\\\n",
       "\t plmutils    & probably real     & generic\\textbar{}tetur14g03010  &  81.818 & 11 & 20 &  399 &  2 & 7.70e+00 & 20.8 & 0.5500000 & 0.027568922\\\\\n",
       "\t plmutils    & probably real     & generic\\textbar{}tetur03g05970  &  80.645 & 31 & 31 &  498 &  6 & 1.97e-12 & 57.0 & 1.0000000 & 0.062248996\\\\\n",
       "\t plmutils    & probably real     & generic\\textbar{}tetur516g00020 &  80.357 & 56 & 56 &  812 & 11 & 6.09e-26 & 96.7 & 1.0000000 & 0.068965517\\\\\n",
       "\t plmutils    & probably not real & generic\\textbar{}tetur21g00630  & 100.000 &  6 & 22 & 1659 &  0 & 7.20e-01 & 23.9 & 0.2727273 & 0.003616637\\\\\n",
       "\t plmutils    & probably not real & generic\\textbar{}tetur41g00150  & 100.000 &  7 & 22 &  519 &  0 & 1.10e+00 & 23.5 & 0.3181818 & 0.013487476\\\\\n",
       "\t plmutils    & probably not real & generic\\textbar{}tetur01g03130  & 100.000 & 14 & 28 &   87 &  0 & 4.40e-04 & 32.3 & 0.5000000 & 0.160919540\\\\\n",
       "\t plmutils    & probably not real & generic\\textbar{}tetur09g04710  & 100.000 &  9 & 23 & 1298 &  0 & 3.40e+00 & 21.9 & 0.3913043 & 0.006933744\\\\\n",
       "\t plmutils    & probably not real & generic\\textbar{}tetur06g01640  & 100.000 &  8 & 16 &  183 &  0 & 4.30e+00 & 21.2 & 0.5000000 & 0.043715847\\\\\n",
       "\t plmutils    & probably not real & generic\\textbar{}tetur07g04120  & 100.000 &  8 & 19 & 1363 &  0 & 8.70e+00 & 20.4 & 0.4210526 & 0.005869406\\\\\n",
       "\t plmutils    & probably not real & generic\\textbar{}tetur24g00470  &  90.000 & 10 & 20 &  242 &  1 & 2.20e-01 & 25.0 & 0.5000000 & 0.041322314\\\\\n",
       "\t plmutils    & probably not real & generic\\textbar{}tetur02g14360  &  90.000 & 10 & 49 &  431 &  1 & 2.20e+00 & 24.3 & 0.2040816 & 0.023201856\\\\\n",
       "\t plmutils    & probably not real & generic\\textbar{}tetur12g03490  &  88.889 &  9 & 27 &  225 &  1 & 6.10e+00 & 21.6 & 0.3333333 & 0.040000000\\\\\n",
       "\t plmutils    & probably not real & generic\\textbar{}tetur02g11810  &  88.889 &  9 & 18 &  628 &  1 & 1.70e+00 & 22.3 & 0.5000000 & 0.014331210\\\\\n",
       "\t plmutils    & probably not real & generic\\textbar{}tetur02g10100  &  88.889 &  9 & 28 & 1235 &  1 & 1.10e+00 & 23.9 & 0.3214286 & 0.007287449\\\\\n",
       "\t deeppeptide & probably not real & generic\\textbar{}tetur05g05290  &  87.500 &  8 & 18 &  225 &  1 & 1.70e+00 & 22.3 & 0.4444444 & 0.035555556\\\\\n",
       "\t plmutils    & probably not real & generic\\textbar{}tetur06g91418  &  87.500 &  8 & 23 &  478 &  1 & 6.50e+00 & 21.2 & 0.3478261 & 0.016736402\\\\\n",
       "\t plmutils    & probably not real & generic\\textbar{}tetur19g03367  &  87.500 &  8 & 33 &  187 &  1 & 2.60e+00 & 23.1 & 0.2424242 & 0.042780749\\\\\n",
       "\t plmutils    & probably not real & generic\\textbar{}tetur12g02910  &  87.500 &  8 & 43 &  880 &  1 & 1.40e+00 & 24.3 & 0.1860465 & 0.009090909\\\\\n",
       "\t plmutils    & probably not real & generic\\textbar{}tetur32g01750  &  87.500 &  8 & 19 &  378 &  1 & 4.40e+00 & 21.6 & 0.4210526 & 0.021164021\\\\\n",
       "\t plmutils    & probably not real & generic\\textbar{}tetur21g02190  &  87.500 &  8 & 22 &  615 &  1 & 2.00e+00 & 22.7 & 0.3636364 & 0.013008130\\\\\n",
       "\t plmutils    & probably not real & generic\\textbar{}tetur09g02260  &  87.500 &  8 & 22 &  408 &  1 & 2.00e+00 & 22.7 & 0.3636364 & 0.019607843\\\\\n",
       "\t plmutils    & probably not real & generic\\textbar{}tetur30g02210  &  85.714 &  7 & 15 & 1281 &  1 & 1.20e+00 & 22.7 & 0.4666667 & 0.005464481\\\\\n",
       "\t plmutils    & probably not real & generic\\textbar{}tetur08g05230  &  85.714 &  7 & 39 &  998 &  1 & 7.10e+00 & 22.3 & 0.1794872 & 0.007014028\\\\\n",
       "\t plmutils    & probably not real & generic\\textbar{}tetur01g05440  &  85.714 &  7 & 25 &   96 &  1 & 3.90e+00 & 21.9 & 0.2800000 & 0.072916667\\\\\n",
       "\t plmutils    & probably not real & generic\\textbar{}tetur12g04420  &  83.333 & 12 & 28 &  522 &  2 & 6.40e+00 & 21.6 & 0.4285714 & 0.022988506\\\\\n",
       "\t plmutils    & probably not real & generic\\textbar{}tetur36g01280  &  83.333 & 12 & 24 &  783 &  2 & 1.20e+00 & 23.5 & 0.5000000 & 0.015325670\\\\\n",
       "\t plmutils    & probably not real & generic\\textbar{}tetur09g05530  &  83.333 & 12 & 27 & 1811 &  2 & 2.00e+00 & 23.1 & 0.4444444 & 0.006626173\\\\\n",
       "\t plmutils    & probably not real & generic\\textbar{}tetur30g02380  &  81.818 & 11 & 32 &  920 &  2 & 3.10e+00 & 22.7 & 0.3437500 & 0.011956522\\\\\n",
       "\t plmutils    & probably not real & generic\\textbar{}tetur22g00900  &  81.818 & 11 & 26 &  547 &  2 & 4.30e-01 & 24.6 & 0.4230769 & 0.020109689\\\\\n",
       "\\end{tabular}\n"
      ],
      "text/markdown": [
       "\n",
       "A tibble: 64 × 12\n",
       "\n",
       "| prediction_tool &lt;chr&gt; | probably_real_match &lt;chr&gt; | blastp_sseqid &lt;chr&gt; | blastp_pident &lt;dbl&gt; | blastp_length &lt;dbl&gt; | blastp_qlen &lt;dbl&gt; | blastp_slen &lt;dbl&gt; | blastp_mismatch &lt;dbl&gt; | blastp_evalue &lt;dbl&gt; | blastp_bitscore &lt;dbl&gt; | blastp_qcov &lt;dbl&gt; | blastp_scov &lt;dbl&gt; |\n",
       "|---|---|---|---|---|---|---|---|---|---|---|---|\n",
       "| nlpprecursor | probably real | generic|tetur23g00830  | 100.000 | 20 | 20 |  809 | 0 | 6.17e-09 |  46.6 | 1.0000000 | 0.02472188 |\n",
       "| deeppeptide  | probably real | generic|tetur01g05620  | 100.000 | 49 | 49 | 1293 | 0 | 2.16e-26 |  97.8 | 1.0000000 | 0.03789637 |\n",
       "| deeppeptide  | probably real | generic|tetur02g02930  | 100.000 | 30 | 30 |  522 | 0 | 4.38e-14 |  61.6 | 1.0000000 | 0.05747126 |\n",
       "| deeppeptide  | probably real | generic|tetur16g00590  | 100.000 | 25 | 25 |   92 | 0 | 1.19e-11 |  51.6 | 1.0000000 | 0.27173913 |\n",
       "| deeppeptide  | probably real | generic|tetur21g01930  | 100.000 | 18 | 18 |  159 | 0 | 2.17e-07 |  41.6 | 1.0000000 | 0.11320755 |\n",
       "| deeppeptide  | probably real | generic|tetur13g00300  | 100.000 |  9 |  9 |  569 | 0 | 1.60e+00 |  21.9 | 1.0000000 | 0.01581722 |\n",
       "| deeppeptide  | probably real | generic|tetur03g07860  | 100.000 | 24 | 24 |  234 | 0 | 1.38e-10 |  51.2 | 1.0000000 | 0.10256410 |\n",
       "| deeppeptide  | probably real | generic|tetur03g07860  | 100.000 | 28 | 28 |  234 | 0 | 7.10e-14 |  60.1 | 1.0000000 | 0.11965812 |\n",
       "| plmutils     | probably real | generic|tetur16g90569  | 100.000 | 53 | 65 |   53 | 0 | 4.82e-34 | 109.0 | 0.8153846 | 1.00000000 |\n",
       "| plmutils     | probably real | generic|tetur48g00030  | 100.000 | 69 | 70 |  234 | 0 | 4.76e-46 | 145.0 | 0.9857143 | 0.29487179 |\n",
       "| plmutils     | probably real | generic|tetur03g07910  | 100.000 | 66 | 66 |  371 | 0 | 3.93e-40 | 133.0 | 1.0000000 | 0.17789757 |\n",
       "| plmutils     | probably real | generic|tetur16g00810  | 100.000 | 41 | 41 |  354 | 0 | 1.72e-23 |  88.2 | 1.0000000 | 0.11581921 |\n",
       "| plmutils     | probably real | generic|tetur211g00010 | 100.000 | 24 | 24 |  207 | 0 | 4.41e-12 |  55.1 | 1.0000000 | 0.11594203 |\n",
       "| plmutils     | probably real | generic|tetur01g00640  | 100.000 | 17 | 23 |   28 | 0 | 1.44e-06 |  37.4 | 0.7391304 | 0.60714286 |\n",
       "| plmutils     | probably real | generic|tetur01g07330  | 100.000 | 15 | 22 |  278 | 0 | 2.00e-03 |  31.2 | 0.6818182 | 0.05395683 |\n",
       "| plmutils     | probably real | generic|tetur01g03150  | 100.000 | 12 | 15 |   98 | 0 | 4.00e-02 |  26.6 | 0.8000000 | 0.12244898 |\n",
       "| plmutils     | probably real | generic|tetur07g06430  | 100.000 | 24 | 26 |  443 | 0 | 6.48e-10 |  49.7 | 0.9230769 | 0.05417607 |\n",
       "| plmutils     | probably real | generic|tetur10g05570  | 100.000 | 72 | 72 |   72 | 0 | 4.23e-48 | 145.0 | 1.0000000 | 1.00000000 |\n",
       "| plmutils     | probably real | generic|tetur24g02787  | 100.000 | 32 | 32 |  435 | 0 | 1.30e-14 |  63.2 | 1.0000000 | 0.07356322 |\n",
       "| plmutils     | probably real | generic|tetur10g01880  | 100.000 | 30 | 30 |  303 | 0 | 4.77e-16 |  67.0 | 1.0000000 | 0.09900990 |\n",
       "| plmutils     | probably real | generic|tetur11g04690  | 100.000 | 51 | 53 |  310 | 0 | 1.46e-33 | 114.0 | 0.9622642 | 0.16451613 |\n",
       "| plmutils     | probably real | generic|tetur22g01370  | 100.000 | 30 | 30 |  149 | 0 | 2.17e-16 |  65.5 | 1.0000000 | 0.20134228 |\n",
       "| plmutils     | probably real | generic|tetur31g00040  | 100.000 | 81 | 81 |  145 | 0 | 3.18e-54 | 163.0 | 1.0000000 | 0.55862069 |\n",
       "| plmutils     | probably real | generic|tetur04g05500  |  98.148 | 54 | 54 |  445 | 1 | 1.20e-30 | 108.0 | 1.0000000 | 0.12134831 |\n",
       "| plmutils     | probably real | generic|tetur01g14950  |  97.802 | 91 | 91 |  453 | 2 | 1.42e-58 | 184.0 | 1.0000000 | 0.20088300 |\n",
       "| plmutils     | probably real | generic|tetur02g01350  |  97.059 | 34 | 34 |  193 | 1 | 2.55e-18 |  71.6 | 1.0000000 | 0.17616580 |\n",
       "| plmutils     | probably real | generic|tetur21g00480  |  96.154 | 26 | 26 | 1291 | 1 | 6.56e-14 |  60.8 | 1.0000000 | 0.02013943 |\n",
       "| plmutils     | probably real | generic|tetur14g00900  |  95.238 | 42 | 42 | 1000 | 2 | 2.84e-23 |  88.6 | 1.0000000 | 0.04200000 |\n",
       "| plmutils     | probably real | generic|tetur16g00790  |  94.118 | 17 | 24 |  137 | 1 | 6.58e-06 |  37.7 | 0.7083333 | 0.12408759 |\n",
       "| plmutils     | probably real | generic|tetur30g01850  |  92.982 | 57 | 57 |   57 | 4 | 5.50e-34 | 108.0 | 1.0000000 | 1.00000000 |\n",
       "| ⋮ | ⋮ | ⋮ | ⋮ | ⋮ | ⋮ | ⋮ | ⋮ | ⋮ | ⋮ | ⋮ | ⋮ |\n",
       "| plmutils    | probably real     | generic|tetur285g00020 |  81.818 | 11 | 16 |  234 |  2 | 5.30e-01 | 23.9 | 0.6875000 | 0.047008547 |\n",
       "| plmutils    | probably real     | generic|tetur14g03010  |  81.818 | 11 | 20 |  399 |  2 | 7.70e+00 | 20.8 | 0.5500000 | 0.027568922 |\n",
       "| plmutils    | probably real     | generic|tetur03g05970  |  80.645 | 31 | 31 |  498 |  6 | 1.97e-12 | 57.0 | 1.0000000 | 0.062248996 |\n",
       "| plmutils    | probably real     | generic|tetur516g00020 |  80.357 | 56 | 56 |  812 | 11 | 6.09e-26 | 96.7 | 1.0000000 | 0.068965517 |\n",
       "| plmutils    | probably not real | generic|tetur21g00630  | 100.000 |  6 | 22 | 1659 |  0 | 7.20e-01 | 23.9 | 0.2727273 | 0.003616637 |\n",
       "| plmutils    | probably not real | generic|tetur41g00150  | 100.000 |  7 | 22 |  519 |  0 | 1.10e+00 | 23.5 | 0.3181818 | 0.013487476 |\n",
       "| plmutils    | probably not real | generic|tetur01g03130  | 100.000 | 14 | 28 |   87 |  0 | 4.40e-04 | 32.3 | 0.5000000 | 0.160919540 |\n",
       "| plmutils    | probably not real | generic|tetur09g04710  | 100.000 |  9 | 23 | 1298 |  0 | 3.40e+00 | 21.9 | 0.3913043 | 0.006933744 |\n",
       "| plmutils    | probably not real | generic|tetur06g01640  | 100.000 |  8 | 16 |  183 |  0 | 4.30e+00 | 21.2 | 0.5000000 | 0.043715847 |\n",
       "| plmutils    | probably not real | generic|tetur07g04120  | 100.000 |  8 | 19 | 1363 |  0 | 8.70e+00 | 20.4 | 0.4210526 | 0.005869406 |\n",
       "| plmutils    | probably not real | generic|tetur24g00470  |  90.000 | 10 | 20 |  242 |  1 | 2.20e-01 | 25.0 | 0.5000000 | 0.041322314 |\n",
       "| plmutils    | probably not real | generic|tetur02g14360  |  90.000 | 10 | 49 |  431 |  1 | 2.20e+00 | 24.3 | 0.2040816 | 0.023201856 |\n",
       "| plmutils    | probably not real | generic|tetur12g03490  |  88.889 |  9 | 27 |  225 |  1 | 6.10e+00 | 21.6 | 0.3333333 | 0.040000000 |\n",
       "| plmutils    | probably not real | generic|tetur02g11810  |  88.889 |  9 | 18 |  628 |  1 | 1.70e+00 | 22.3 | 0.5000000 | 0.014331210 |\n",
       "| plmutils    | probably not real | generic|tetur02g10100  |  88.889 |  9 | 28 | 1235 |  1 | 1.10e+00 | 23.9 | 0.3214286 | 0.007287449 |\n",
       "| deeppeptide | probably not real | generic|tetur05g05290  |  87.500 |  8 | 18 |  225 |  1 | 1.70e+00 | 22.3 | 0.4444444 | 0.035555556 |\n",
       "| plmutils    | probably not real | generic|tetur06g91418  |  87.500 |  8 | 23 |  478 |  1 | 6.50e+00 | 21.2 | 0.3478261 | 0.016736402 |\n",
       "| plmutils    | probably not real | generic|tetur19g03367  |  87.500 |  8 | 33 |  187 |  1 | 2.60e+00 | 23.1 | 0.2424242 | 0.042780749 |\n",
       "| plmutils    | probably not real | generic|tetur12g02910  |  87.500 |  8 | 43 |  880 |  1 | 1.40e+00 | 24.3 | 0.1860465 | 0.009090909 |\n",
       "| plmutils    | probably not real | generic|tetur32g01750  |  87.500 |  8 | 19 |  378 |  1 | 4.40e+00 | 21.6 | 0.4210526 | 0.021164021 |\n",
       "| plmutils    | probably not real | generic|tetur21g02190  |  87.500 |  8 | 22 |  615 |  1 | 2.00e+00 | 22.7 | 0.3636364 | 0.013008130 |\n",
       "| plmutils    | probably not real | generic|tetur09g02260  |  87.500 |  8 | 22 |  408 |  1 | 2.00e+00 | 22.7 | 0.3636364 | 0.019607843 |\n",
       "| plmutils    | probably not real | generic|tetur30g02210  |  85.714 |  7 | 15 | 1281 |  1 | 1.20e+00 | 22.7 | 0.4666667 | 0.005464481 |\n",
       "| plmutils    | probably not real | generic|tetur08g05230  |  85.714 |  7 | 39 |  998 |  1 | 7.10e+00 | 22.3 | 0.1794872 | 0.007014028 |\n",
       "| plmutils    | probably not real | generic|tetur01g05440  |  85.714 |  7 | 25 |   96 |  1 | 3.90e+00 | 21.9 | 0.2800000 | 0.072916667 |\n",
       "| plmutils    | probably not real | generic|tetur12g04420  |  83.333 | 12 | 28 |  522 |  2 | 6.40e+00 | 21.6 | 0.4285714 | 0.022988506 |\n",
       "| plmutils    | probably not real | generic|tetur36g01280  |  83.333 | 12 | 24 |  783 |  2 | 1.20e+00 | 23.5 | 0.5000000 | 0.015325670 |\n",
       "| plmutils    | probably not real | generic|tetur09g05530  |  83.333 | 12 | 27 | 1811 |  2 | 2.00e+00 | 23.1 | 0.4444444 | 0.006626173 |\n",
       "| plmutils    | probably not real | generic|tetur30g02380  |  81.818 | 11 | 32 |  920 |  2 | 3.10e+00 | 22.7 | 0.3437500 | 0.011956522 |\n",
       "| plmutils    | probably not real | generic|tetur22g00900  |  81.818 | 11 | 26 |  547 |  2 | 4.30e-01 | 24.6 | 0.4230769 | 0.020109689 |\n",
       "\n"
      ],
      "text/plain": [
       "   prediction_tool probably_real_match blastp_sseqid          blastp_pident\n",
       "1  nlpprecursor    probably real       generic|tetur23g00830  100.000      \n",
       "2  deeppeptide     probably real       generic|tetur01g05620  100.000      \n",
       "3  deeppeptide     probably real       generic|tetur02g02930  100.000      \n",
       "4  deeppeptide     probably real       generic|tetur16g00590  100.000      \n",
       "5  deeppeptide     probably real       generic|tetur21g01930  100.000      \n",
       "6  deeppeptide     probably real       generic|tetur13g00300  100.000      \n",
       "7  deeppeptide     probably real       generic|tetur03g07860  100.000      \n",
       "8  deeppeptide     probably real       generic|tetur03g07860  100.000      \n",
       "9  plmutils        probably real       generic|tetur16g90569  100.000      \n",
       "10 plmutils        probably real       generic|tetur48g00030  100.000      \n",
       "11 plmutils        probably real       generic|tetur03g07910  100.000      \n",
       "12 plmutils        probably real       generic|tetur16g00810  100.000      \n",
       "13 plmutils        probably real       generic|tetur211g00010 100.000      \n",
       "14 plmutils        probably real       generic|tetur01g00640  100.000      \n",
       "15 plmutils        probably real       generic|tetur01g07330  100.000      \n",
       "16 plmutils        probably real       generic|tetur01g03150  100.000      \n",
       "17 plmutils        probably real       generic|tetur07g06430  100.000      \n",
       "18 plmutils        probably real       generic|tetur10g05570  100.000      \n",
       "19 plmutils        probably real       generic|tetur24g02787  100.000      \n",
       "20 plmutils        probably real       generic|tetur10g01880  100.000      \n",
       "21 plmutils        probably real       generic|tetur11g04690  100.000      \n",
       "22 plmutils        probably real       generic|tetur22g01370  100.000      \n",
       "23 plmutils        probably real       generic|tetur31g00040  100.000      \n",
       "24 plmutils        probably real       generic|tetur04g05500   98.148      \n",
       "25 plmutils        probably real       generic|tetur01g14950   97.802      \n",
       "26 plmutils        probably real       generic|tetur02g01350   97.059      \n",
       "27 plmutils        probably real       generic|tetur21g00480   96.154      \n",
       "28 plmutils        probably real       generic|tetur14g00900   95.238      \n",
       "29 plmutils        probably real       generic|tetur16g00790   94.118      \n",
       "30 plmutils        probably real       generic|tetur30g01850   92.982      \n",
       "⋮  ⋮               ⋮                   ⋮                      ⋮            \n",
       "35 plmutils        probably real       generic|tetur285g00020  81.818      \n",
       "36 plmutils        probably real       generic|tetur14g03010   81.818      \n",
       "37 plmutils        probably real       generic|tetur03g05970   80.645      \n",
       "38 plmutils        probably real       generic|tetur516g00020  80.357      \n",
       "39 plmutils        probably not real   generic|tetur21g00630  100.000      \n",
       "40 plmutils        probably not real   generic|tetur41g00150  100.000      \n",
       "41 plmutils        probably not real   generic|tetur01g03130  100.000      \n",
       "42 plmutils        probably not real   generic|tetur09g04710  100.000      \n",
       "43 plmutils        probably not real   generic|tetur06g01640  100.000      \n",
       "44 plmutils        probably not real   generic|tetur07g04120  100.000      \n",
       "45 plmutils        probably not real   generic|tetur24g00470   90.000      \n",
       "46 plmutils        probably not real   generic|tetur02g14360   90.000      \n",
       "47 plmutils        probably not real   generic|tetur12g03490   88.889      \n",
       "48 plmutils        probably not real   generic|tetur02g11810   88.889      \n",
       "49 plmutils        probably not real   generic|tetur02g10100   88.889      \n",
       "50 deeppeptide     probably not real   generic|tetur05g05290   87.500      \n",
       "51 plmutils        probably not real   generic|tetur06g91418   87.500      \n",
       "52 plmutils        probably not real   generic|tetur19g03367   87.500      \n",
       "53 plmutils        probably not real   generic|tetur12g02910   87.500      \n",
       "54 plmutils        probably not real   generic|tetur32g01750   87.500      \n",
       "55 plmutils        probably not real   generic|tetur21g02190   87.500      \n",
       "56 plmutils        probably not real   generic|tetur09g02260   87.500      \n",
       "57 plmutils        probably not real   generic|tetur30g02210   85.714      \n",
       "58 plmutils        probably not real   generic|tetur08g05230   85.714      \n",
       "59 plmutils        probably not real   generic|tetur01g05440   85.714      \n",
       "60 plmutils        probably not real   generic|tetur12g04420   83.333      \n",
       "61 plmutils        probably not real   generic|tetur36g01280   83.333      \n",
       "62 plmutils        probably not real   generic|tetur09g05530   83.333      \n",
       "63 plmutils        probably not real   generic|tetur30g02380   81.818      \n",
       "64 plmutils        probably not real   generic|tetur22g00900   81.818      \n",
       "   blastp_length blastp_qlen blastp_slen blastp_mismatch blastp_evalue\n",
       "1  20            20           809        0               6.17e-09     \n",
       "2  49            49          1293        0               2.16e-26     \n",
       "3  30            30           522        0               4.38e-14     \n",
       "4  25            25            92        0               1.19e-11     \n",
       "5  18            18           159        0               2.17e-07     \n",
       "6   9             9           569        0               1.60e+00     \n",
       "7  24            24           234        0               1.38e-10     \n",
       "8  28            28           234        0               7.10e-14     \n",
       "9  53            65            53        0               4.82e-34     \n",
       "10 69            70           234        0               4.76e-46     \n",
       "11 66            66           371        0               3.93e-40     \n",
       "12 41            41           354        0               1.72e-23     \n",
       "13 24            24           207        0               4.41e-12     \n",
       "14 17            23            28        0               1.44e-06     \n",
       "15 15            22           278        0               2.00e-03     \n",
       "16 12            15            98        0               4.00e-02     \n",
       "17 24            26           443        0               6.48e-10     \n",
       "18 72            72            72        0               4.23e-48     \n",
       "19 32            32           435        0               1.30e-14     \n",
       "20 30            30           303        0               4.77e-16     \n",
       "21 51            53           310        0               1.46e-33     \n",
       "22 30            30           149        0               2.17e-16     \n",
       "23 81            81           145        0               3.18e-54     \n",
       "24 54            54           445        1               1.20e-30     \n",
       "25 91            91           453        2               1.42e-58     \n",
       "26 34            34           193        1               2.55e-18     \n",
       "27 26            26          1291        1               6.56e-14     \n",
       "28 42            42          1000        2               2.84e-23     \n",
       "29 17            24           137        1               6.58e-06     \n",
       "30 57            57            57        4               5.50e-34     \n",
       "⋮  ⋮             ⋮           ⋮           ⋮               ⋮            \n",
       "35 11            16           234         2              5.30e-01     \n",
       "36 11            20           399         2              7.70e+00     \n",
       "37 31            31           498         6              1.97e-12     \n",
       "38 56            56           812        11              6.09e-26     \n",
       "39  6            22          1659         0              7.20e-01     \n",
       "40  7            22           519         0              1.10e+00     \n",
       "41 14            28            87         0              4.40e-04     \n",
       "42  9            23          1298         0              3.40e+00     \n",
       "43  8            16           183         0              4.30e+00     \n",
       "44  8            19          1363         0              8.70e+00     \n",
       "45 10            20           242         1              2.20e-01     \n",
       "46 10            49           431         1              2.20e+00     \n",
       "47  9            27           225         1              6.10e+00     \n",
       "48  9            18           628         1              1.70e+00     \n",
       "49  9            28          1235         1              1.10e+00     \n",
       "50  8            18           225         1              1.70e+00     \n",
       "51  8            23           478         1              6.50e+00     \n",
       "52  8            33           187         1              2.60e+00     \n",
       "53  8            43           880         1              1.40e+00     \n",
       "54  8            19           378         1              4.40e+00     \n",
       "55  8            22           615         1              2.00e+00     \n",
       "56  8            22           408         1              2.00e+00     \n",
       "57  7            15          1281         1              1.20e+00     \n",
       "58  7            39           998         1              7.10e+00     \n",
       "59  7            25            96         1              3.90e+00     \n",
       "60 12            28           522         2              6.40e+00     \n",
       "61 12            24           783         2              1.20e+00     \n",
       "62 12            27          1811         2              2.00e+00     \n",
       "63 11            32           920         2              3.10e+00     \n",
       "64 11            26           547         2              4.30e-01     \n",
       "   blastp_bitscore blastp_qcov blastp_scov\n",
       "1   46.6           1.0000000   0.02472188 \n",
       "2   97.8           1.0000000   0.03789637 \n",
       "3   61.6           1.0000000   0.05747126 \n",
       "4   51.6           1.0000000   0.27173913 \n",
       "5   41.6           1.0000000   0.11320755 \n",
       "6   21.9           1.0000000   0.01581722 \n",
       "7   51.2           1.0000000   0.10256410 \n",
       "8   60.1           1.0000000   0.11965812 \n",
       "9  109.0           0.8153846   1.00000000 \n",
       "10 145.0           0.9857143   0.29487179 \n",
       "11 133.0           1.0000000   0.17789757 \n",
       "12  88.2           1.0000000   0.11581921 \n",
       "13  55.1           1.0000000   0.11594203 \n",
       "14  37.4           0.7391304   0.60714286 \n",
       "15  31.2           0.6818182   0.05395683 \n",
       "16  26.6           0.8000000   0.12244898 \n",
       "17  49.7           0.9230769   0.05417607 \n",
       "18 145.0           1.0000000   1.00000000 \n",
       "19  63.2           1.0000000   0.07356322 \n",
       "20  67.0           1.0000000   0.09900990 \n",
       "21 114.0           0.9622642   0.16451613 \n",
       "22  65.5           1.0000000   0.20134228 \n",
       "23 163.0           1.0000000   0.55862069 \n",
       "24 108.0           1.0000000   0.12134831 \n",
       "25 184.0           1.0000000   0.20088300 \n",
       "26  71.6           1.0000000   0.17616580 \n",
       "27  60.8           1.0000000   0.02013943 \n",
       "28  88.6           1.0000000   0.04200000 \n",
       "29  37.7           0.7083333   0.12408759 \n",
       "30 108.0           1.0000000   1.00000000 \n",
       "⋮  ⋮               ⋮           ⋮          \n",
       "35 23.9            0.6875000   0.047008547\n",
       "36 20.8            0.5500000   0.027568922\n",
       "37 57.0            1.0000000   0.062248996\n",
       "38 96.7            1.0000000   0.068965517\n",
       "39 23.9            0.2727273   0.003616637\n",
       "40 23.5            0.3181818   0.013487476\n",
       "41 32.3            0.5000000   0.160919540\n",
       "42 21.9            0.3913043   0.006933744\n",
       "43 21.2            0.5000000   0.043715847\n",
       "44 20.4            0.4210526   0.005869406\n",
       "45 25.0            0.5000000   0.041322314\n",
       "46 24.3            0.2040816   0.023201856\n",
       "47 21.6            0.3333333   0.040000000\n",
       "48 22.3            0.5000000   0.014331210\n",
       "49 23.9            0.3214286   0.007287449\n",
       "50 22.3            0.4444444   0.035555556\n",
       "51 21.2            0.3478261   0.016736402\n",
       "52 23.1            0.2424242   0.042780749\n",
       "53 24.3            0.1860465   0.009090909\n",
       "54 21.6            0.4210526   0.021164021\n",
       "55 22.7            0.3636364   0.013008130\n",
       "56 22.7            0.3636364   0.019607843\n",
       "57 22.7            0.4666667   0.005464481\n",
       "58 22.3            0.1794872   0.007014028\n",
       "59 21.9            0.2800000   0.072916667\n",
       "60 21.6            0.4285714   0.022988506\n",
       "61 23.5            0.5000000   0.015325670\n",
       "62 23.1            0.4444444   0.006626173\n",
       "63 22.7            0.3437500   0.011956522\n",
       "64 24.6            0.4230769   0.020109689"
      ]
     },
     "metadata": {},
     "output_type": "display_data"
    }
   ],
   "source": [
    "peptidomics_blastp %>%\n",
    "  filter(blastp_pident > 80) %>%\n",
    "  select(prediction_tool, probably_real_match, blastp_sseqid, blastp_pident, blastp_length, blastp_qlen, blastp_slen, \n",
    "          blastp_mismatch, blastp_evalue, blastp_bitscore, blastp_qcov, blastp_scov) %>%\n",
    "  arrange(desc(probably_real_match), desc(blastp_pident))\n"
   ]
  },
  {
   "cell_type": "markdown",
   "id": "71bb2388-c6f7-4a0f-8118-f9290e28e672",
   "metadata": {},
   "source": [
    "The cleavage peptide prediction tools are doing a good job.\n",
    "These results suggest to me that deeppeptide and nlpprecursor are robust against fragmentation in the input transcriptome (which makes sense because they operate on gene predictions, which would be a small set of genes for such a fragmented assembly).\n",
    "However, in all but 1 case, the prediction looks real, which means they are accurate prediction tools (1/1 for nlpprecursor, 1/8 for deeppeptide).\n",
    "\n",
    "The sORF prediction tool plmutils suffers from rampant over-prediction.\n",
    "We hypothesized that some of this overprediction might be due to the fragmented nature of the transcriptome -- if true coding transcripts are fragmented, they probably wouldn't be annotated by transdecoder and thus would be scanned for sORFs.\n",
    "Some of these might be predicted to be in the correct open reading frame but be fragments of the full length protein.\n",
    "To test this hypothesis, we BLASTed all of the plmutils sORF predictions against a clustered version of the nr database (see details here: https://github.com/Arcadia-Science/peptigate/issues/24).\n",
    "We found that 4% of plmutils sORF predictions (116 peptides) had hits to proteins >100 amino acids long in the Arcadia clustered nr database.\n",
    "While this accounts for a small fraction of over prediction of peptides, it does not account for all of it.\n",
    "\n",
    "We then hypothesized that protein-coding fragmented transcripts translated in the wrong open reading frame leads to over prediction.\n",
    "If they are in the wrong frame, few sORF peptides would have hits against proteins in databases.\n",
    "We BLASTx'd the transcripts that lead to sORFs against uniref50 as well as the clustered nr database.\n",
    "We found that 1239 transcripts had hits against uniref50 (evalue < 1e-10) and 1394 transcripts had hits against clustered nr (evalue < 1e-10).\n",
    "This shows that fragmented transcripts that are translated in the wrong open reading frame account for at least half of the over prediction we observe by plmutils.\n",
    "We plan to implement a filter into peptigate so that this source of over prediction is eliminated moving forward."
   ]
  },
  {
   "cell_type": "markdown",
   "id": "a3c28d92-3c4a-4ebb-96ff-5e1dff10d487",
   "metadata": {},
   "source": [
    "### Do we predict a peptide from the one transcript tetur31g00830 that was mentioned in the paper and that ended up in the transcriptome assembly?\n",
    "\n",
    "We do not, meaning we are still missing some peptides.\n",
    "With this low of numbers, it is difficult to estimate how many we are missing."
   ]
  },
  {
   "cell_type": "code",
   "execution_count": 22,
   "id": "ef8bd6ea-640f-4166-8b82-a4b1a4f9d312",
   "metadata": {},
   "outputs": [
    {
     "data": {
      "text/html": [
       "<table class=\"dataframe\">\n",
       "<caption>A tibble: 0 × 12</caption>\n",
       "<thead>\n",
       "\t<tr><th scope=col>prediction_tool</th><th scope=col>probably_real_match</th><th scope=col>blastp_sseqid</th><th scope=col>blastp_pident</th><th scope=col>blastp_length</th><th scope=col>blastp_qlen</th><th scope=col>blastp_slen</th><th scope=col>blastp_mismatch</th><th scope=col>blastp_evalue</th><th scope=col>blastp_bitscore</th><th scope=col>blastp_qcov</th><th scope=col>blastp_scov</th></tr>\n",
       "\t<tr><th scope=col>&lt;chr&gt;</th><th scope=col>&lt;chr&gt;</th><th scope=col>&lt;chr&gt;</th><th scope=col>&lt;dbl&gt;</th><th scope=col>&lt;dbl&gt;</th><th scope=col>&lt;dbl&gt;</th><th scope=col>&lt;dbl&gt;</th><th scope=col>&lt;dbl&gt;</th><th scope=col>&lt;dbl&gt;</th><th scope=col>&lt;dbl&gt;</th><th scope=col>&lt;dbl&gt;</th><th scope=col>&lt;dbl&gt;</th></tr>\n",
       "</thead>\n",
       "<tbody>\n",
       "</tbody>\n",
       "</table>\n"
      ],
      "text/latex": [
       "A tibble: 0 × 12\n",
       "\\begin{tabular}{llllllllllll}\n",
       " prediction\\_tool & probably\\_real\\_match & blastp\\_sseqid & blastp\\_pident & blastp\\_length & blastp\\_qlen & blastp\\_slen & blastp\\_mismatch & blastp\\_evalue & blastp\\_bitscore & blastp\\_qcov & blastp\\_scov\\\\\n",
       " <chr> & <chr> & <chr> & <dbl> & <dbl> & <dbl> & <dbl> & <dbl> & <dbl> & <dbl> & <dbl> & <dbl>\\\\\n",
       "\\hline\n",
       "\\end{tabular}\n"
      ],
      "text/markdown": [
       "\n",
       "A tibble: 0 × 12\n",
       "\n",
       "| prediction_tool &lt;chr&gt; | probably_real_match &lt;chr&gt; | blastp_sseqid &lt;chr&gt; | blastp_pident &lt;dbl&gt; | blastp_length &lt;dbl&gt; | blastp_qlen &lt;dbl&gt; | blastp_slen &lt;dbl&gt; | blastp_mismatch &lt;dbl&gt; | blastp_evalue &lt;dbl&gt; | blastp_bitscore &lt;dbl&gt; | blastp_qcov &lt;dbl&gt; | blastp_scov &lt;dbl&gt; |\n",
       "|---|---|---|---|---|---|---|---|---|---|---|---|\n",
       "\n"
      ],
      "text/plain": [
       "     prediction_tool probably_real_match blastp_sseqid blastp_pident\n",
       "     blastp_length blastp_qlen blastp_slen blastp_mismatch blastp_evalue\n",
       "     blastp_bitscore blastp_qcov blastp_scov"
      ]
     },
     "metadata": {},
     "output_type": "display_data"
    }
   ],
   "source": [
    "peptidomics_blastp %>%\n",
    "  filter(blastp_pident > 80) %>%\n",
    "  select(prediction_tool, probably_real_match, blastp_sseqid, blastp_pident, blastp_length, blastp_qlen, blastp_slen, \n",
    "          blastp_mismatch, blastp_evalue, blastp_bitscore, blastp_qcov, blastp_scov) %>%\n",
    "  arrange(desc(probably_real_match), desc(blastp_pident)) %>%\n",
    "  filter(blastp_sseqid == \"tetur31g00830\")"
   ]
  },
  {
   "cell_type": "markdown",
   "id": "c8f45c6f-440a-42b7-a010-6d3c87c923b1",
   "metadata": {},
   "source": [
    "## Conclusions\n",
    "\n",
    "* The quality of the input transcriptome really matters. We detected only parts of two of the transcripts that were parent proteins to the peptides identified by peptidomics in the study. This means that our transcriptome did not contain the input sequences that would have been necessary to detect the majority of the peptides identified by peptidomics.\n",
    "    * For this transcriptome, that isn't particularly surprising. There were only four samples that we co-assembled, which isn't a lot to get a complete transcriptome out. R2T didn't finish running, so we don't have busco (completeness) and salmon (percent of reads that map back) estimates.\n",
    "    * In a pinch, the sORF predictions could be BLASTed against nr or swissprot, and any hit that matches to a larger protein sequence could be filtered out. When we did this against \n",
    "* Fragmented transcriptomes will also cause more sORFs to be detected. Not shown here in this notebook, but I BLASTed some of the plmutils sORF predictions against NR and a lot of them hit coding transcripts. This suggests that plmutils is finding real coding fragments but that those fragments are part of longer genes, not true sORFs.\n",
    "* Contamination in the input transcriptome, particularly bacterial or other species with naturally occurring sORFs, will lead to real sORF predictions but from the wrong species (the contaminant species)\n",
    "* NLPPrecursor and DeepPeptide had very accurate results with very few false negatives. If they produced a prediction, it appears that that prediction was true."
   ]
  },
  {
   "cell_type": "code",
   "execution_count": 23,
   "id": "4372fa31-78a5-4570-af86-bc5f069a7c98",
   "metadata": {},
   "outputs": [
    {
     "data": {
      "text/plain": [
       "R version 4.3.3 (2024-02-29)\n",
       "Platform: x86_64-apple-darwin13.4.0 (64-bit)\n",
       "Running under: macOS Big Sur ... 10.16\n",
       "\n",
       "Matrix products: default\n",
       "BLAS/LAPACK: /Users/taylorreiter/miniconda3/envs/pepeval/lib/libopenblasp-r0.3.26.dylib;  LAPACK version 3.12.0\n",
       "\n",
       "locale:\n",
       "[1] en_US.UTF-8/en_US.UTF-8/en_US.UTF-8/C/en_US.UTF-8/en_US.UTF-8\n",
       "\n",
       "time zone: America/New_York\n",
       "tzcode source: internal\n",
       "\n",
       "attached base packages:\n",
       "[1] stats     graphics  grDevices utils     datasets  methods   base     \n",
       "\n",
       "other attached packages:\n",
       " [1] Rtsne_0.17      umap_0.2.10.0   ggExtra_0.10.0  lubridate_1.9.3\n",
       " [5] forcats_1.0.0   stringr_1.5.1   dplyr_1.1.4     purrr_1.0.2    \n",
       " [9] readr_2.1.5     tidyr_1.3.1     tibble_3.2.1    ggplot2_3.5.0  \n",
       "[13] tidyverse_2.0.0\n",
       "\n",
       "loaded via a namespace (and not attached):\n",
       " [1] utf8_1.2.4        generics_0.1.3    lattice_0.22-5    stringi_1.8.3    \n",
       " [5] hms_1.1.3         digest_0.6.35     magrittr_2.0.3    evaluate_0.23    \n",
       " [9] grid_4.3.3        timechange_0.3.0  pbdZMQ_0.3-11     fastmap_1.1.1    \n",
       "[13] Matrix_1.6-5      jsonlite_1.8.8    RSpectra_0.16-1   promises_1.2.1   \n",
       "[17] fansi_1.0.6       scales_1.3.0      cli_3.6.2         shiny_1.8.0      \n",
       "[21] rlang_1.1.3       crayon_1.5.2      bit64_4.0.5       ellipsis_0.3.2   \n",
       "[25] munsell_0.5.0     base64enc_0.1-3   withr_3.0.0       repr_1.1.6       \n",
       "[29] parallel_4.3.3    tools_4.3.3       tzdb_0.4.0        uuid_1.2-0       \n",
       "[33] colorspace_2.1-0  httpuv_1.6.14     reticulate_1.35.0 IRdisplay_1.1    \n",
       "[37] png_0.1-8         vctrs_0.6.5       R6_2.5.1          mime_0.12        \n",
       "[41] lifecycle_1.0.4   bit_4.0.5         vroom_1.6.5       miniUI_0.1.1.1   \n",
       "[45] pkgconfig_2.0.3   pillar_1.9.0      later_1.3.2       gtable_0.3.4     \n",
       "[49] glue_1.7.0        Rcpp_1.0.12       tidyselect_1.2.0  IRkernel_1.3.2   \n",
       "[53] farver_2.1.1      xtable_1.8-4      htmltools_0.5.7   labeling_0.4.3   \n",
       "[57] compiler_4.3.3    askpass_1.2.0     openssl_2.1.1    "
      ]
     },
     "metadata": {},
     "output_type": "display_data"
    }
   ],
   "source": [
    "sessionInfo()"
   ]
  },
  {
   "cell_type": "code",
   "execution_count": null,
   "id": "2ada81a9-2a13-4679-abf0-a1ee829b0f13",
   "metadata": {},
   "outputs": [],
   "source": []
  }
 ],
 "metadata": {
  "kernelspec": {
   "display_name": "R",
   "language": "R",
   "name": "ir"
  },
  "language_info": {
   "codemirror_mode": "r",
   "file_extension": ".r",
   "mimetype": "text/x-r-source",
   "name": "R",
   "pygments_lexer": "r",
   "version": "4.3.3"
  }
 },
 "nbformat": 4,
 "nbformat_minor": 5
}
